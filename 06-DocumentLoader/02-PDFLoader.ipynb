{
  "cells": [
    {
      "cell_type": "markdown",
      "metadata": {
        "id": "view-in-github",
        "colab_type": "text"
      },
      "source": [
        "<a href=\"https://colab.research.google.com/github/Wea-boo/pdf-loader-notebook/blob/main/06-DocumentLoader/02-PDFLoader.ipynb\" target=\"_parent\"><img src=\"https://colab.research.google.com/assets/colab-badge.svg\" alt=\"Open In Colab\"/></a>"
      ]
    },
    {
      "cell_type": "markdown",
      "id": "ef6fd896",
      "metadata": {
        "collapsed": false,
        "id": "ef6fd896"
      },
      "source": [
        "# PDF Loader\n",
        "\n",
        "- Author: [Yejin Park](https://github.com/ppakyeah)\n",
        "- Peer Review : [Yun Eun](https://github.com/yuneun92), [MinJi Kang](https://www.linkedin.com/in/minji-kang-995b32230/)\n",
        "- Author: [Yejin Park](https://github.com/ppakyeah)\n",
        "- This is a part of [LangChain Open Tutorial](https://github.com/LangChain-OpenTutorial/LangChain-OpenTutorial)\n",
        "\n",
        "[![Open in Colab](https://colab.research.google.com/assets/colab-badge.svg)](https://colab.research.google.com/github/LangChain-OpenTutorial/LangChain-OpenTutorial/blob/main/06-DocumentLoader/02-PDFLoader.ipynb)\n",
        "[![Open in GitHub](https://img.shields.io/badge/Open%20in%20GitHub-181717?style=flat-square&logo=github&logoColor=white)](https://github.com/LangChain-OpenTutorial/LangChain-OpenTutorial/blob/main/06-DocumentLoader/02-PDFLoader.ipynb)\n",
        "\n",
        "## Overview\n",
        "This tutorial covers various PDF processing methods using LangChain and popular PDF libraries.\n",
        "\n",
        "PDF processing is essential for extracting and analyzing text data from PDF documents.\n",
        "\n",
        "In this tutorial, we will explore different PDF loaders and their capabilities while working with LangChain's document processing framework.\n",
        "\n",
        "### Table of Contents\n",
        "\n",
        "- [Overview](#overview)\n",
        "- [Environment Setup](#environment-setup)\n",
        "- [How to load PDFs](#how-to-load-pdfs)\n",
        "- [PyPDF](#pypdf)\n",
        "- [PyMuPDF](#pymupdf)\n",
        "- [Unstructured](#unstructured)\n",
        "- [PyPDFium2](#pypdfium2)\n",
        "- [PDFMiner](#pdfminer)\n",
        "- [PDFPlumber](#pdfplumber)\n",
        "\n",
        "### References\n",
        "\n",
        "- [LangChain: How to load PDFs](https://python.langchain.com/docs/how_to/document_loader_pdf/)\n",
        "----"
      ]
    },
    {
      "cell_type": "markdown",
      "id": "Sym3XiL3i2X8",
      "metadata": {
        "id": "Sym3XiL3i2X8"
      },
      "source": [
        "## Environment Setup\n",
        "\n",
        "Set up the environment. You may refer to [Environment Setup](https://wikidocs.net/257836) for more details.\n",
        "\n",
        "**[Note]**\n",
        "- ```langchain-opentutorial``` is a package that provides a set of easy-to-use environment setup, useful functions and utilities for tutorials.\n",
        "- You can checkout the [```langchain-opentutorial```](https://github.com/LangChain-OpenTutorial/langchain-opentutorial-pypi) for more details."
      ]
    },
    {
      "cell_type": "code",
      "execution_count": 1,
      "id": "YYOErkDKi2X8",
      "metadata": {
        "ExecuteTime": {
          "end_time": "2025-01-02T12:31:56.036017Z",
          "start_time": "2025-01-02T12:31:54.026466Z"
        },
        "id": "YYOErkDKi2X8"
      },
      "outputs": [],
      "source": [
        "%%capture --no-stderr\n",
        "%pip install langchain-opentutorial"
      ]
    },
    {
      "cell_type": "code",
      "execution_count": 2,
      "id": "WuCBOIMGi2X9",
      "metadata": {
        "ExecuteTime": {
          "end_time": "2025-01-02T12:34:03.966683Z",
          "start_time": "2025-01-02T12:31:56.040547Z"
        },
        "id": "WuCBOIMGi2X9"
      },
      "outputs": [],
      "source": [
        "# Install required packages\n",
        "from langchain_opentutorial import package\n",
        "\n",
        "package.install(\n",
        "    [\n",
        "        \"langchain_community\",\n",
        "        \"langchain_text_splitters\",\n",
        "        \"pypdf\",\n",
        "        \"rapidocr-onnxruntime\",\n",
        "        \"pymupdf\",\n",
        "        \"unstructured[pdf]\"\n",
        "    ],\n",
        "    verbose=False,\n",
        "    upgrade=False,\n",
        ")"
      ]
    },
    {
      "cell_type": "code",
      "execution_count": 3,
      "id": "XuYDrHMCi2X9",
      "metadata": {
        "ExecuteTime": {
          "end_time": "2025-01-02T12:34:03.973674Z",
          "start_time": "2025-01-02T12:34:03.967009Z"
        },
        "colab": {
          "base_uri": "https://localhost:8080/"
        },
        "id": "XuYDrHMCi2X9",
        "outputId": "2500dec6-c341-40a4-ba9d-7bbc70a2023d"
      },
      "outputs": [
        {
          "output_type": "stream",
          "name": "stdout",
          "text": [
            "Environment variables have been set successfully.\n"
          ]
        }
      ],
      "source": [
        "# Set environment variables\n",
        "from langchain_opentutorial import set_env\n",
        "\n",
        "set_env(\n",
        "    {\n",
        "        \"OPENAI_API_KEY\": \"\",\n",
        "        \"LANGCHAIN_API_KEY\": \"\",\n",
        "        \"LANGCHAIN_TRACING_V2\": \"true\",\n",
        "        \"LANGCHAIN_ENDPOINT\": \"https://api.smith.langchain.com\",\n",
        "        \"LANGCHAIN_PROJECT\": \"PDFLoader\",\n",
        "    }\n",
        ")"
      ]
    },
    {
      "cell_type": "markdown",
      "id": "mLc6owsBi2X-",
      "metadata": {
        "id": "mLc6owsBi2X-"
      },
      "source": [
        "## How to load PDFs\n",
        "\n",
        "[Portable Document Format (PDF)](https://en.wikipedia.org/wiki/PDF), a file format standardized by ISO 32000, was developed by Adobe in 1992 for presenting documents, which include text formatting and images in a way that is independent of application software, hardware, and operating systems.\n",
        "\n",
        "This guide covers how to load a PDF document into the LangChain [Document](https://python.langchain.com/api_reference/core/documents/langchain_core.documents.base.Document.html#langchain_core.documents.base.Document) format. This format will be used downstream.\n",
        "\n",
        "LangChain integrates with a variety of PDF parsers. Some are simple and relatively low-level, while others support OCR and image processing or perform advanced document layout analysis.\n",
        "\n",
        "The right choice depends on your application.\n",
        "\n",
        "\n",
        "We will demonstrate these approaches on a [sample file](https://github.com/langchain-ai/langchain/blob/master/libs/community/tests/integration_tests/examples/layout-parser-paper.pdf).\n",
        "Download the sample file and copy it to your data folder."
      ]
    },
    {
      "cell_type": "code",
      "execution_count": 7,
      "id": "7c18fcef",
      "metadata": {
        "ExecuteTime": {
          "end_time": "2025-01-02T12:34:03.977437Z",
          "start_time": "2025-01-02T12:34:03.975350Z"
        },
        "id": "7c18fcef"
      },
      "outputs": [],
      "source": [
        "FILE_PATH = \"/content/prog_imperative_repdf.pdf\""
      ]
    },
    {
      "cell_type": "code",
      "execution_count": 8,
      "id": "_efkSboXi2X_",
      "metadata": {
        "ExecuteTime": {
          "end_time": "2025-01-02T12:34:03.987274Z",
          "start_time": "2025-01-02T12:34:03.985104Z"
        },
        "id": "_efkSboXi2X_"
      },
      "outputs": [],
      "source": [
        "def show_metadata(docs):\n",
        "    if docs:\n",
        "        print(\"[metadata]\")\n",
        "        print(list(docs[0].metadata.keys()))\n",
        "        print(\"\\n[examples]\")\n",
        "        max_key_length = max(len(k) for k in docs[0].metadata.keys())\n",
        "        for k, v in docs[0].metadata.items():\n",
        "            print(f\"{k:<{max_key_length}} : {v}\")"
      ]
    },
    {
      "cell_type": "markdown",
      "id": "QmmzBFFMi2X_",
      "metadata": {
        "id": "QmmzBFFMi2X_"
      },
      "source": [
        "## PyPDF\n",
        "\n",
        "\n",
        "[PyPDF](https://github.com/py-pdf/pypdf) is one of the most widely used Python libraries for PDF processing.\n",
        "\n",
        "Here we use PyPDF to load the PDF as an list of Document objects\n",
        "\n",
        "LangChain's [```PyPDFLoader```](\n",
        "https://python.langchain.com/api_reference/community/document_loaders/langchain_community.document_loaders.pdf.PyPDFLoader.html) integrates with PyPDF to parse PDF documents into LangChain Document objects.\n"
      ]
    },
    {
      "cell_type": "code",
      "execution_count": 9,
      "id": "fLukm7mdi2X_",
      "metadata": {
        "ExecuteTime": {
          "end_time": "2025-01-02T12:34:10.198931Z",
          "start_time": "2025-01-02T12:34:03.992128Z"
        },
        "colab": {
          "base_uri": "https://localhost:8080/"
        },
        "id": "fLukm7mdi2X_",
        "outputId": "1155ac33-7b9b-41c6-c9fa-96be22f64827"
      },
      "outputs": [
        {
          "output_type": "stream",
          "name": "stdout",
          "text": [
            "11 \n",
            "12/02/22 09:03 © 2008~2012 par J. Feat \n",
            " \n",
            " \n",
            " \n",
            "① REPRÉSENTATIONS SYMBOLIQUES \n",
            "L'essentiel de l'activité de programmation avec un langage de haut niveau consiste à manipuler des \n",
            "symboles, non pas en tant que noms, mais pour ce qu'ils représentent : leur valeur. \n",
            " \n",
            "Et pour être utilisables, les sy\n"
          ]
        }
      ],
      "source": [
        "from langchain_community.document_loaders import PyPDFLoader\n",
        "\n",
        "# Initialize the PDF loader\n",
        "loader = PyPDFLoader(FILE_PATH)\n",
        "\n",
        "# Load data into Document objects\n",
        "docs = loader.load()\n",
        "\n",
        "# Print the contents of the document\n",
        "print(docs[10].page_content[:300])"
      ]
    },
    {
      "cell_type": "code",
      "execution_count": 10,
      "id": "453f2103",
      "metadata": {
        "ExecuteTime": {
          "end_time": "2025-01-02T12:34:10.202043Z",
          "start_time": "2025-01-02T12:34:10.196722Z"
        },
        "colab": {
          "base_uri": "https://localhost:8080/"
        },
        "id": "453f2103",
        "outputId": "3d3d8ad8-73db-4aad-89cc-44ac460f4e86"
      },
      "outputs": [
        {
          "output_type": "stream",
          "name": "stdout",
          "text": [
            "[metadata]\n",
            "['producer', 'creator', 'creationdate', 'author', 'moddate', 'title', 'source', 'total_pages', 'page', 'page_label']\n",
            "\n",
            "[examples]\n",
            "producer     : Microsoft: Print To PDF\n",
            "creator      : PyPDF\n",
            "creationdate : 2025-05-09T18:14:45+01:00\n",
            "author       : \n",
            "moddate      : 2025-05-09T18:14:45+01:00\n",
            "title        : Microsoft Word - conception de programmes _ l'approche impérative\n",
            "source       : /content/prog_imperative_repdf.pdf\n",
            "total_pages  : 124\n",
            "page         : 0\n",
            "page_label   : 1\n"
          ]
        }
      ],
      "source": [
        "# output metadata\n",
        "show_metadata(docs)"
      ]
    },
    {
      "cell_type": "markdown",
      "id": "Vkc4IhxI_Xfx",
      "metadata": {
        "id": "Vkc4IhxI_Xfx"
      },
      "source": [
        "The ```load_and_split()``` method allows customizing how documents are chunked by passing a text splitter object, making it more flexible for different use cases."
      ]
    },
    {
      "cell_type": "code",
      "execution_count": 11,
      "id": "DY5g0LBw_hs3",
      "metadata": {
        "ExecuteTime": {
          "end_time": "2025-01-02T12:34:10.566671Z",
          "start_time": "2025-01-02T12:34:10.203696Z"
        },
        "colab": {
          "base_uri": "https://localhost:8080/"
        },
        "id": "DY5g0LBw_hs3",
        "outputId": "2183dc05-238f-4c3c-abc7-0a1ea13a5a12"
      },
      "outputs": [
        {
          "output_type": "stream",
          "name": "stdout",
          "text": [
            "conception de programmes \n",
            "l'approche impérative \n",
            " \n",
            " \n",
            " \n",
            " \n",
            " \n",
            "UNIVERSITÉ PARIS 8 \n",
            " \n",
            "SYNTHÈSE DE COURS \n",
            "EDF2LNia \n",
            "2012\n"
          ]
        }
      ],
      "source": [
        "from langchain_text_splitters import RecursiveCharacterTextSplitter\n",
        "\n",
        "# Load Documents and split into chunks. Chunks are returned as Documents.\n",
        "text_splitter = RecursiveCharacterTextSplitter(chunk_size=200, chunk_overlap=200)\n",
        "docs = loader.load_and_split(text_splitter=text_splitter)\n",
        "print(docs[0].page_content)"
      ]
    },
    {
      "cell_type": "markdown",
      "id": "96845496",
      "metadata": {
        "id": "96845496"
      },
      "source": [
        "### PyPDF(OCR)\n",
        "\n",
        "Some PDFs contain text images within scanned documents or pictures. You can also use the ```rapidocr-onnxruntime``` package to extract text from images."
      ]
    },
    {
      "cell_type": "code",
      "execution_count": 12,
      "id": "b5334000",
      "metadata": {
        "ExecuteTime": {
          "end_time": "2025-01-02T12:35:43.954729Z",
          "start_time": "2025-01-02T12:34:10.567649Z"
        },
        "colab": {
          "base_uri": "https://localhost:8080/",
          "height": 419
        },
        "id": "b5334000",
        "outputId": "1bee6393-177e-4b13-8450-44cd048957cf"
      },
      "outputs": [
        {
          "output_type": "error",
          "ename": "TypeError",
          "evalue": "Cannot handle this data type: (1, 1, 1), |u1",
          "traceback": [
            "\u001b[0;31m---------------------------------------------------------------------------\u001b[0m",
            "\u001b[0;31mKeyError\u001b[0m                                  Traceback (most recent call last)",
            "\u001b[0;32m/usr/local/lib/python3.11/dist-packages/PIL/Image.py\u001b[0m in \u001b[0;36mfromarray\u001b[0;34m(obj, mode)\u001b[0m\n\u001b[1;32m   3298\u001b[0m         \u001b[0;32mtry\u001b[0m\u001b[0;34m:\u001b[0m\u001b[0;34m\u001b[0m\u001b[0;34m\u001b[0m\u001b[0m\n\u001b[0;32m-> 3299\u001b[0;31m             \u001b[0mmode\u001b[0m\u001b[0;34m,\u001b[0m \u001b[0mrawmode\u001b[0m \u001b[0;34m=\u001b[0m \u001b[0m_fromarray_typemap\u001b[0m\u001b[0;34m[\u001b[0m\u001b[0mtypekey\u001b[0m\u001b[0;34m]\u001b[0m\u001b[0;34m\u001b[0m\u001b[0;34m\u001b[0m\u001b[0m\n\u001b[0m\u001b[1;32m   3300\u001b[0m         \u001b[0;32mexcept\u001b[0m \u001b[0mKeyError\u001b[0m \u001b[0;32mas\u001b[0m \u001b[0me\u001b[0m\u001b[0;34m:\u001b[0m\u001b[0;34m\u001b[0m\u001b[0;34m\u001b[0m\u001b[0m\n",
            "\u001b[0;31mKeyError\u001b[0m: ((1, 1, 1), '|u1')",
            "\nThe above exception was the direct cause of the following exception:\n",
            "\u001b[0;31mTypeError\u001b[0m                                 Traceback (most recent call last)",
            "\u001b[0;32m<ipython-input-12-af767f1fe6f5>\u001b[0m in \u001b[0;36m<cell line: 0>\u001b[0;34m()\u001b[0m\n\u001b[1;32m      3\u001b[0m \u001b[0;34m\u001b[0m\u001b[0m\n\u001b[1;32m      4\u001b[0m \u001b[0;31m# load PDF page\u001b[0m\u001b[0;34m\u001b[0m\u001b[0;34m\u001b[0m\u001b[0m\n\u001b[0;32m----> 5\u001b[0;31m \u001b[0mdocs\u001b[0m \u001b[0;34m=\u001b[0m \u001b[0mloader\u001b[0m\u001b[0;34m.\u001b[0m\u001b[0mload\u001b[0m\u001b[0;34m(\u001b[0m\u001b[0;34m)\u001b[0m\u001b[0;34m\u001b[0m\u001b[0;34m\u001b[0m\u001b[0m\n\u001b[0m\u001b[1;32m      6\u001b[0m \u001b[0;34m\u001b[0m\u001b[0m\n\u001b[1;32m      7\u001b[0m \u001b[0;31m# access page content\u001b[0m\u001b[0;34m\u001b[0m\u001b[0;34m\u001b[0m\u001b[0m\n",
            "\u001b[0;32m/usr/local/lib/python3.11/dist-packages/langchain_core/document_loaders/base.py\u001b[0m in \u001b[0;36mload\u001b[0;34m(self)\u001b[0m\n\u001b[1;32m     30\u001b[0m     \u001b[0;32mdef\u001b[0m \u001b[0mload\u001b[0m\u001b[0;34m(\u001b[0m\u001b[0mself\u001b[0m\u001b[0;34m)\u001b[0m \u001b[0;34m->\u001b[0m \u001b[0mlist\u001b[0m\u001b[0;34m[\u001b[0m\u001b[0mDocument\u001b[0m\u001b[0;34m]\u001b[0m\u001b[0;34m:\u001b[0m\u001b[0;34m\u001b[0m\u001b[0;34m\u001b[0m\u001b[0m\n\u001b[1;32m     31\u001b[0m         \u001b[0;34m\"\"\"Load data into Document objects.\"\"\"\u001b[0m\u001b[0;34m\u001b[0m\u001b[0;34m\u001b[0m\u001b[0m\n\u001b[0;32m---> 32\u001b[0;31m         \u001b[0;32mreturn\u001b[0m \u001b[0mlist\u001b[0m\u001b[0;34m(\u001b[0m\u001b[0mself\u001b[0m\u001b[0;34m.\u001b[0m\u001b[0mlazy_load\u001b[0m\u001b[0;34m(\u001b[0m\u001b[0;34m)\u001b[0m\u001b[0;34m)\u001b[0m\u001b[0;34m\u001b[0m\u001b[0;34m\u001b[0m\u001b[0m\n\u001b[0m\u001b[1;32m     33\u001b[0m \u001b[0;34m\u001b[0m\u001b[0m\n\u001b[1;32m     34\u001b[0m     \u001b[0;32masync\u001b[0m \u001b[0;32mdef\u001b[0m \u001b[0maload\u001b[0m\u001b[0;34m(\u001b[0m\u001b[0mself\u001b[0m\u001b[0;34m)\u001b[0m \u001b[0;34m->\u001b[0m \u001b[0mlist\u001b[0m\u001b[0;34m[\u001b[0m\u001b[0mDocument\u001b[0m\u001b[0;34m]\u001b[0m\u001b[0;34m:\u001b[0m\u001b[0;34m\u001b[0m\u001b[0;34m\u001b[0m\u001b[0m\n",
            "\u001b[0;32m/usr/local/lib/python3.11/dist-packages/langchain_community/document_loaders/pdf.py\u001b[0m in \u001b[0;36mlazy_load\u001b[0;34m(self)\u001b[0m\n\u001b[1;32m    303\u001b[0m         \u001b[0;32melse\u001b[0m\u001b[0;34m:\u001b[0m\u001b[0;34m\u001b[0m\u001b[0;34m\u001b[0m\u001b[0m\n\u001b[1;32m    304\u001b[0m             \u001b[0mblob\u001b[0m \u001b[0;34m=\u001b[0m \u001b[0mBlob\u001b[0m\u001b[0;34m.\u001b[0m\u001b[0mfrom_path\u001b[0m\u001b[0;34m(\u001b[0m\u001b[0mself\u001b[0m\u001b[0;34m.\u001b[0m\u001b[0mfile_path\u001b[0m\u001b[0;34m)\u001b[0m\u001b[0;34m\u001b[0m\u001b[0;34m\u001b[0m\u001b[0m\n\u001b[0;32m--> 305\u001b[0;31m         \u001b[0;32myield\u001b[0m \u001b[0;32mfrom\u001b[0m \u001b[0mself\u001b[0m\u001b[0;34m.\u001b[0m\u001b[0mparser\u001b[0m\u001b[0;34m.\u001b[0m\u001b[0mlazy_parse\u001b[0m\u001b[0;34m(\u001b[0m\u001b[0mblob\u001b[0m\u001b[0;34m)\u001b[0m\u001b[0;34m\u001b[0m\u001b[0;34m\u001b[0m\u001b[0m\n\u001b[0m\u001b[1;32m    306\u001b[0m \u001b[0;34m\u001b[0m\u001b[0m\n\u001b[1;32m    307\u001b[0m \u001b[0;34m\u001b[0m\u001b[0m\n",
            "\u001b[0;32m/usr/local/lib/python3.11/dist-packages/langchain_community/document_loaders/parsers/pdf.py\u001b[0m in \u001b[0;36mlazy_parse\u001b[0;34m(self, blob)\u001b[0m\n\u001b[1;32m    395\u001b[0m             \u001b[0;32mfor\u001b[0m \u001b[0mpage_number\u001b[0m\u001b[0;34m,\u001b[0m \u001b[0mpage\u001b[0m \u001b[0;32min\u001b[0m \u001b[0menumerate\u001b[0m\u001b[0;34m(\u001b[0m\u001b[0mpdf_reader\u001b[0m\u001b[0;34m.\u001b[0m\u001b[0mpages\u001b[0m\u001b[0;34m)\u001b[0m\u001b[0;34m:\u001b[0m\u001b[0;34m\u001b[0m\u001b[0;34m\u001b[0m\u001b[0m\n\u001b[1;32m    396\u001b[0m                 \u001b[0mtext_from_page\u001b[0m \u001b[0;34m=\u001b[0m \u001b[0m_extract_text_from_page\u001b[0m\u001b[0;34m(\u001b[0m\u001b[0mpage\u001b[0m\u001b[0;34m=\u001b[0m\u001b[0mpage\u001b[0m\u001b[0;34m)\u001b[0m\u001b[0;34m\u001b[0m\u001b[0;34m\u001b[0m\u001b[0m\n\u001b[0;32m--> 397\u001b[0;31m                 \u001b[0mimages_from_page\u001b[0m \u001b[0;34m=\u001b[0m \u001b[0mself\u001b[0m\u001b[0;34m.\u001b[0m\u001b[0mextract_images_from_page\u001b[0m\u001b[0;34m(\u001b[0m\u001b[0mpage\u001b[0m\u001b[0;34m)\u001b[0m\u001b[0;34m\u001b[0m\u001b[0;34m\u001b[0m\u001b[0m\n\u001b[0m\u001b[1;32m    398\u001b[0m                 all_text = _merge_text_and_extras(\n\u001b[1;32m    399\u001b[0m                     \u001b[0;34m[\u001b[0m\u001b[0mimages_from_page\u001b[0m\u001b[0;34m]\u001b[0m\u001b[0;34m,\u001b[0m \u001b[0mtext_from_page\u001b[0m\u001b[0;34m\u001b[0m\u001b[0;34m\u001b[0m\u001b[0m\n",
            "\u001b[0;32m/usr/local/lib/python3.11/dist-packages/langchain_community/document_loaders/parsers/pdf.py\u001b[0m in \u001b[0;36mextract_images_from_page\u001b[0;34m(self, page)\u001b[0m\n\u001b[1;32m    458\u001b[0m                 \u001b[0;32mif\u001b[0m \u001b[0mnp_image\u001b[0m \u001b[0;32mis\u001b[0m \u001b[0;32mnot\u001b[0m \u001b[0;32mNone\u001b[0m\u001b[0;34m:\u001b[0m\u001b[0;34m\u001b[0m\u001b[0;34m\u001b[0m\u001b[0m\n\u001b[1;32m    459\u001b[0m                     \u001b[0mimage_bytes\u001b[0m \u001b[0;34m=\u001b[0m \u001b[0mio\u001b[0m\u001b[0;34m.\u001b[0m\u001b[0mBytesIO\u001b[0m\u001b[0;34m(\u001b[0m\u001b[0;34m)\u001b[0m\u001b[0;34m\u001b[0m\u001b[0;34m\u001b[0m\u001b[0m\n\u001b[0;32m--> 460\u001b[0;31m                     \u001b[0mImage\u001b[0m\u001b[0;34m.\u001b[0m\u001b[0mfromarray\u001b[0m\u001b[0;34m(\u001b[0m\u001b[0mnp_image\u001b[0m\u001b[0;34m)\u001b[0m\u001b[0;34m.\u001b[0m\u001b[0msave\u001b[0m\u001b[0;34m(\u001b[0m\u001b[0mimage_bytes\u001b[0m\u001b[0;34m,\u001b[0m \u001b[0mformat\u001b[0m\u001b[0;34m=\u001b[0m\u001b[0;34m\"PNG\"\u001b[0m\u001b[0;34m)\u001b[0m\u001b[0;34m\u001b[0m\u001b[0;34m\u001b[0m\u001b[0m\n\u001b[0m\u001b[1;32m    461\u001b[0m                     \u001b[0mblob\u001b[0m \u001b[0;34m=\u001b[0m \u001b[0mBlob\u001b[0m\u001b[0;34m.\u001b[0m\u001b[0mfrom_data\u001b[0m\u001b[0;34m(\u001b[0m\u001b[0mimage_bytes\u001b[0m\u001b[0;34m.\u001b[0m\u001b[0mgetvalue\u001b[0m\u001b[0;34m(\u001b[0m\u001b[0;34m)\u001b[0m\u001b[0;34m,\u001b[0m \u001b[0mmime_type\u001b[0m\u001b[0;34m=\u001b[0m\u001b[0;34m\"image/png\"\u001b[0m\u001b[0;34m)\u001b[0m\u001b[0;34m\u001b[0m\u001b[0;34m\u001b[0m\u001b[0m\n\u001b[1;32m    462\u001b[0m                     \u001b[0mimage_text\u001b[0m \u001b[0;34m=\u001b[0m \u001b[0mnext\u001b[0m\u001b[0;34m(\u001b[0m\u001b[0mself\u001b[0m\u001b[0;34m.\u001b[0m\u001b[0mimages_parser\u001b[0m\u001b[0;34m.\u001b[0m\u001b[0mlazy_parse\u001b[0m\u001b[0;34m(\u001b[0m\u001b[0mblob\u001b[0m\u001b[0;34m)\u001b[0m\u001b[0;34m)\u001b[0m\u001b[0;34m.\u001b[0m\u001b[0mpage_content\u001b[0m\u001b[0;34m\u001b[0m\u001b[0;34m\u001b[0m\u001b[0m\n",
            "\u001b[0;32m/usr/local/lib/python3.11/dist-packages/PIL/Image.py\u001b[0m in \u001b[0;36mfromarray\u001b[0;34m(obj, mode)\u001b[0m\n\u001b[1;32m   3301\u001b[0m             \u001b[0mtypekey_shape\u001b[0m\u001b[0;34m,\u001b[0m \u001b[0mtypestr\u001b[0m \u001b[0;34m=\u001b[0m \u001b[0mtypekey\u001b[0m\u001b[0;34m\u001b[0m\u001b[0;34m\u001b[0m\u001b[0m\n\u001b[1;32m   3302\u001b[0m             \u001b[0mmsg\u001b[0m \u001b[0;34m=\u001b[0m \u001b[0;34mf\"Cannot handle this data type: {typekey_shape}, {typestr}\"\u001b[0m\u001b[0;34m\u001b[0m\u001b[0;34m\u001b[0m\u001b[0m\n\u001b[0;32m-> 3303\u001b[0;31m             \u001b[0;32mraise\u001b[0m \u001b[0mTypeError\u001b[0m\u001b[0;34m(\u001b[0m\u001b[0mmsg\u001b[0m\u001b[0;34m)\u001b[0m \u001b[0;32mfrom\u001b[0m \u001b[0me\u001b[0m\u001b[0;34m\u001b[0m\u001b[0;34m\u001b[0m\u001b[0m\n\u001b[0m\u001b[1;32m   3304\u001b[0m     \u001b[0;32melse\u001b[0m\u001b[0;34m:\u001b[0m\u001b[0;34m\u001b[0m\u001b[0;34m\u001b[0m\u001b[0m\n\u001b[1;32m   3305\u001b[0m         \u001b[0mrawmode\u001b[0m \u001b[0;34m=\u001b[0m \u001b[0mmode\u001b[0m\u001b[0;34m\u001b[0m\u001b[0;34m\u001b[0m\u001b[0m\n",
            "\u001b[0;31mTypeError\u001b[0m: Cannot handle this data type: (1, 1, 1), |u1"
          ]
        }
      ],
      "source": [
        "# Initialize PDF loader, enable image extraction option\n",
        "loader = PyPDFLoader(FILE_PATH, extract_images=True)\n",
        "\n",
        "# load PDF page\n",
        "docs = loader.load()\n",
        "\n",
        "# access page content\n",
        "print(docs[4].page_content[:300])"
      ]
    },
    {
      "cell_type": "code",
      "execution_count": 13,
      "id": "0fe6caa9",
      "metadata": {
        "ExecuteTime": {
          "end_time": "2025-01-02T12:35:43.958839Z",
          "start_time": "2025-01-02T12:35:43.953814Z"
        },
        "colab": {
          "base_uri": "https://localhost:8080/"
        },
        "id": "0fe6caa9",
        "outputId": "3d6ed82b-e260-44d4-ef09-942f89225b71"
      },
      "outputs": [
        {
          "output_type": "stream",
          "name": "stdout",
          "text": [
            "[metadata]\n",
            "['producer', 'creator', 'creationdate', 'author', 'moddate', 'title', 'source', 'total_pages', 'page', 'page_label']\n",
            "\n",
            "[examples]\n",
            "producer     : Microsoft: Print To PDF\n",
            "creator      : PyPDF\n",
            "creationdate : 2025-05-09T18:14:45+01:00\n",
            "author       : \n",
            "moddate      : 2025-05-09T18:14:45+01:00\n",
            "title        : Microsoft Word - conception de programmes _ l'approche impérative\n",
            "source       : /content/prog_imperative_repdf.pdf\n",
            "total_pages  : 124\n",
            "page         : 0\n",
            "page_label   : 1\n"
          ]
        }
      ],
      "source": [
        "show_metadata(docs)"
      ]
    },
    {
      "cell_type": "markdown",
      "id": "IqAkH1vaeCLj",
      "metadata": {
        "id": "IqAkH1vaeCLj"
      },
      "source": [
        "### PyPDF Directory\n",
        "\n",
        "Import all PDF documents from directory."
      ]
    },
    {
      "cell_type": "code",
      "execution_count": 14,
      "id": "lA-e-hPweCLj",
      "metadata": {
        "ExecuteTime": {
          "end_time": "2025-01-02T12:35:44.495238Z",
          "start_time": "2025-01-02T12:35:43.959963Z"
        },
        "colab": {
          "base_uri": "https://localhost:8080/",
          "height": 198
        },
        "id": "lA-e-hPweCLj",
        "outputId": "0db11164-45db-4f6f-e93c-a556d06f115d"
      },
      "outputs": [
        {
          "output_type": "stream",
          "name": "stdout",
          "text": [
            "0\n"
          ]
        },
        {
          "output_type": "error",
          "ename": "IndexError",
          "evalue": "list index out of range",
          "traceback": [
            "\u001b[0;31m---------------------------------------------------------------------------\u001b[0m",
            "\u001b[0;31mIndexError\u001b[0m                                Traceback (most recent call last)",
            "\u001b[0;32m<ipython-input-14-fe4644f492fc>\u001b[0m in \u001b[0;36m<cell line: 0>\u001b[0;34m()\u001b[0m\n\u001b[1;32m     12\u001b[0m \u001b[0;34m\u001b[0m\u001b[0m\n\u001b[1;32m     13\u001b[0m \u001b[0;31m# get document from a directory\u001b[0m\u001b[0;34m\u001b[0m\u001b[0;34m\u001b[0m\u001b[0m\n\u001b[0;32m---> 14\u001b[0;31m \u001b[0mdocument\u001b[0m \u001b[0;34m=\u001b[0m \u001b[0mdocs\u001b[0m\u001b[0;34m[\u001b[0m\u001b[0mdocs_len\u001b[0m \u001b[0;34m-\u001b[0m \u001b[0;36m1\u001b[0m\u001b[0;34m]\u001b[0m\u001b[0;34m\u001b[0m\u001b[0;34m\u001b[0m\u001b[0m\n\u001b[0m",
            "\u001b[0;31mIndexError\u001b[0m: list index out of range"
          ]
        }
      ],
      "source": [
        "from langchain_community.document_loaders import PyPDFDirectoryLoader\n",
        "\n",
        "# directory path\n",
        "loader = PyPDFDirectoryLoader(\"./data/\")\n",
        "\n",
        "# load documents\n",
        "docs = loader.load()\n",
        "\n",
        "# print the number of documents\n",
        "docs_len = len(docs)\n",
        "print(docs_len)\n",
        "\n",
        "# get document from a directory\n",
        "document = docs[docs_len - 1]"
      ]
    },
    {
      "cell_type": "code",
      "execution_count": 15,
      "id": "iCxqumC4eCLk",
      "metadata": {
        "ExecuteTime": {
          "end_time": "2025-01-02T12:35:44.499097Z",
          "start_time": "2025-01-02T12:35:44.495745Z"
        },
        "colab": {
          "base_uri": "https://localhost:8080/",
          "height": 162
        },
        "id": "iCxqumC4eCLk",
        "outputId": "0debea65-66a0-4260-e3a6-f829449d19a8"
      },
      "outputs": [
        {
          "output_type": "error",
          "ename": "NameError",
          "evalue": "name 'document' is not defined",
          "traceback": [
            "\u001b[0;31m---------------------------------------------------------------------------\u001b[0m",
            "\u001b[0;31mNameError\u001b[0m                                 Traceback (most recent call last)",
            "\u001b[0;32m<ipython-input-15-9d87c97991aa>\u001b[0m in \u001b[0;36m<cell line: 0>\u001b[0;34m()\u001b[0m\n\u001b[1;32m      1\u001b[0m \u001b[0;31m# print the contents of the document\u001b[0m\u001b[0;34m\u001b[0m\u001b[0;34m\u001b[0m\u001b[0m\n\u001b[0;32m----> 2\u001b[0;31m \u001b[0mprint\u001b[0m\u001b[0;34m(\u001b[0m\u001b[0mdocument\u001b[0m\u001b[0;34m.\u001b[0m\u001b[0mpage_content\u001b[0m\u001b[0;34m[\u001b[0m\u001b[0;34m:\u001b[0m\u001b[0;36m300\u001b[0m\u001b[0;34m]\u001b[0m\u001b[0;34m)\u001b[0m\u001b[0;34m\u001b[0m\u001b[0;34m\u001b[0m\u001b[0m\n\u001b[0m",
            "\u001b[0;31mNameError\u001b[0m: name 'document' is not defined"
          ]
        }
      ],
      "source": [
        "# print the contents of the document\n",
        "print(document.page_content[:300])"
      ]
    },
    {
      "cell_type": "code",
      "execution_count": 16,
      "id": "ZXuC6hY7eCLk",
      "metadata": {
        "ExecuteTime": {
          "end_time": "2025-01-02T12:35:44.505186Z",
          "start_time": "2025-01-02T12:35:44.499778Z"
        },
        "colab": {
          "base_uri": "https://localhost:8080/",
          "height": 144
        },
        "id": "ZXuC6hY7eCLk",
        "outputId": "90369cc9-0ba0-4c66-bf90-ed4af18204d2"
      },
      "outputs": [
        {
          "output_type": "error",
          "ename": "NameError",
          "evalue": "name 'document' is not defined",
          "traceback": [
            "\u001b[0;31m---------------------------------------------------------------------------\u001b[0m",
            "\u001b[0;31mNameError\u001b[0m                                 Traceback (most recent call last)",
            "\u001b[0;32m<ipython-input-16-1f3abcfdb0c5>\u001b[0m in \u001b[0;36m<cell line: 0>\u001b[0;34m()\u001b[0m\n\u001b[0;32m----> 1\u001b[0;31m \u001b[0mprint\u001b[0m\u001b[0;34m(\u001b[0m\u001b[0mdocument\u001b[0m\u001b[0;34m.\u001b[0m\u001b[0mmetadata\u001b[0m\u001b[0;34m)\u001b[0m\u001b[0;34m\u001b[0m\u001b[0;34m\u001b[0m\u001b[0m\n\u001b[0m",
            "\u001b[0;31mNameError\u001b[0m: name 'document' is not defined"
          ]
        }
      ],
      "source": [
        "print(document.metadata)"
      ]
    },
    {
      "cell_type": "markdown",
      "id": "7a191d5c",
      "metadata": {
        "id": "7a191d5c"
      },
      "source": [
        "## PyMuPDF\n",
        "\n",
        "[PyMuPDF](https://github.com/pymupdf/PyMuPDF) is speed optimized and includes detailed metadata about the PDF and its pages. It returns one document per page.\n",
        "\n",
        "LangChain's [```PyMuPDFLoader```](\n",
        "https://python.langchain.com/api_reference/community/document_loaders/langchain_community.document_loaders.pdf.PyMuPDFLoader.html) integrates with PyMuPDF to parse PDF documents into LangChain Document objects."
      ]
    },
    {
      "cell_type": "code",
      "execution_count": 17,
      "id": "47e7a947",
      "metadata": {
        "ExecuteTime": {
          "end_time": "2025-01-02T12:35:47.616063Z",
          "start_time": "2025-01-02T12:35:44.510395Z"
        },
        "colab": {
          "base_uri": "https://localhost:8080/"
        },
        "id": "47e7a947",
        "outputId": "5e2b3894-90c3-4490-9352-0a7b11602f99"
      },
      "outputs": [
        {
          "output_type": "stream",
          "name": "stdout",
          "text": [
            "11\n",
            "12/02/22 09:03 © 2008~2012 par J. Feat \n",
            " \n",
            " \n",
            " \n",
            "① REPRÉSENTATIONS SYMBOLIQUES \n",
            "L'essentiel de l'activité de programmation avec un langage de haut niveau consiste à manipuler des \n",
            "symboles, non pas en tant que noms, mais pour ce qu'ils représentent : leur valeur. \n",
            " \n",
            "Et pour être utilisables, les sym\n"
          ]
        }
      ],
      "source": [
        "from langchain_community.document_loaders import PyMuPDFLoader\n",
        "\n",
        "# create an instance of the PyMuPDF loader\n",
        "loader = PyMuPDFLoader(FILE_PATH)\n",
        "\n",
        "# load the document\n",
        "docs = loader.load()\n",
        "\n",
        "# print the contents of the document\n",
        "print(docs[10].page_content[:300])"
      ]
    },
    {
      "cell_type": "code",
      "execution_count": 18,
      "id": "bbca8760",
      "metadata": {
        "ExecuteTime": {
          "end_time": "2025-01-02T12:35:47.619069Z",
          "start_time": "2025-01-02T12:35:47.616724Z"
        },
        "colab": {
          "base_uri": "https://localhost:8080/"
        },
        "id": "bbca8760",
        "outputId": "804f1c47-5c47-40ae-d391-a2e392a21c9f"
      },
      "outputs": [
        {
          "output_type": "stream",
          "name": "stdout",
          "text": [
            "[metadata]\n",
            "['producer', 'creator', 'creationdate', 'source', 'file_path', 'total_pages', 'format', 'title', 'author', 'subject', 'keywords', 'moddate', 'trapped', 'modDate', 'creationDate', 'page']\n",
            "\n",
            "[examples]\n",
            "producer     : Microsoft: Print To PDF\n",
            "creator      : \n",
            "creationdate : 2025-05-09T18:14:45+01:00\n",
            "source       : /content/prog_imperative_repdf.pdf\n",
            "file_path    : /content/prog_imperative_repdf.pdf\n",
            "total_pages  : 124\n",
            "format       : PDF 1.7\n",
            "title        : Microsoft Word - conception de programmes _ l'approche impérative\n",
            "author       : \n",
            "subject      : \n",
            "keywords     : \n",
            "moddate      : 2025-05-09T18:14:45+01:00\n",
            "trapped      : \n",
            "modDate      : D:20250509181445+01'00'\n",
            "creationDate : D:20250509181445+01'00'\n",
            "page         : 0\n"
          ]
        }
      ],
      "source": [
        "show_metadata(docs)"
      ]
    },
    {
      "cell_type": "markdown",
      "id": "c89745c9",
      "metadata": {
        "id": "c89745c9"
      },
      "source": [
        "## Unstructured\n",
        "\n",
        "[Unstructured](https://docs.unstructured.io/welcome) is a powerful library designed to handle various unstructured and semi-structured document formats. It excels at automatically identifying and categorizing different components within documents.\n",
        "Currently supports loading text files, PowerPoints, HTML, PDFs, images, and more.\n",
        "\n",
        "LangChain's [```UnstructuredPDFLoader```](\n",
        "https://python.langchain.com/api_reference/unstructured/document_loaders/langchain_unstructured.document_loaders.UnstructuredLoader.html) integrates with Unstructured to parse PDF documents into LangChain Document objects.\n"
      ]
    },
    {
      "cell_type": "code",
      "execution_count": 19,
      "id": "40cb362e",
      "metadata": {
        "ExecuteTime": {
          "end_time": "2025-01-02T12:38:22.957614Z",
          "start_time": "2025-01-02T12:35:47.621864Z"
        },
        "colab": {
          "base_uri": "https://localhost:8080/"
        },
        "id": "40cb362e",
        "outputId": "925562e6-299d-41ed-c04a-d756a2b388d2"
      },
      "outputs": [
        {
          "output_type": "stream",
          "name": "stdout",
          "text": [
            "conception de programmes l'approche impérative\n",
            "\n",
            "UNIVERSITÉ PARIS 8\n",
            "\n",
            "SYNTHÈSE DE COURS EDF2LNia 2012\n",
            "\n",
            "2\n",
            "\n",
            "conception de programmes l'approche impérative\n",
            "\n",
            "Jym Feat\n",
            "\n",
            "5° édition, février 2012\n",
            "\n",
            "Université Paris 8 département informatique UFR MITSIC institut d'enseignement à distance\n",
            "\n",
            "© 2008~2012 J. Feat -\n"
          ]
        }
      ],
      "source": [
        "from langchain_community.document_loaders import UnstructuredPDFLoader\n",
        "\n",
        "# create an instance of UnstructuredPDFLoader\n",
        "loader = UnstructuredPDFLoader(FILE_PATH)\n",
        "\n",
        "# load the data\n",
        "docs = loader.load()\n",
        "\n",
        "# print the contents of the document\n",
        "print(docs[0].page_content[:300])"
      ]
    },
    {
      "cell_type": "code",
      "execution_count": 20,
      "id": "926b929e",
      "metadata": {
        "ExecuteTime": {
          "end_time": "2025-01-02T12:38:22.958318Z",
          "start_time": "2025-01-02T12:38:22.949154Z"
        },
        "colab": {
          "base_uri": "https://localhost:8080/"
        },
        "id": "926b929e",
        "outputId": "96ee869c-0460-49ac-f871-33df414f1b41"
      },
      "outputs": [
        {
          "output_type": "stream",
          "name": "stdout",
          "text": [
            "[metadata]\n",
            "['source']\n",
            "\n",
            "[examples]\n",
            "source : /content/prog_imperative_repdf.pdf\n"
          ]
        }
      ],
      "source": [
        "show_metadata(docs)"
      ]
    },
    {
      "cell_type": "markdown",
      "id": "N2QiACIAlq13",
      "metadata": {
        "id": "N2QiACIAlq13"
      },
      "source": [
        "Internally, unstructured creates different \"**elements**\" for each chunk of text. By default, these are combined, but can be easily separated by specifying ```mode=\"elements\"```."
      ]
    },
    {
      "cell_type": "code",
      "execution_count": 21,
      "id": "f6f97007",
      "metadata": {
        "ExecuteTime": {
          "end_time": "2025-01-02T12:38:23.986342Z",
          "start_time": "2025-01-02T12:38:22.957979Z"
        },
        "colab": {
          "base_uri": "https://localhost:8080/"
        },
        "id": "f6f97007",
        "outputId": "374ecc35-e686-4282-f157-c77e8805f23f"
      },
      "outputs": [
        {
          "output_type": "stream",
          "name": "stdout",
          "text": [
            "conception de programmes l'approche impérative\n"
          ]
        }
      ],
      "source": [
        "# Create an instance of UnstructuredPDFLoader (mode=\"elements”)\n",
        "loader = UnstructuredPDFLoader(FILE_PATH, mode=\"elements\")\n",
        "\n",
        "# load the data\n",
        "docs = loader.load()\n",
        "\n",
        "# print the contents of the document\n",
        "print(docs[0].page_content)"
      ]
    },
    {
      "cell_type": "code",
      "source": [
        "print(docs[55].page_content)"
      ],
      "metadata": {
        "id": "p5wZpqCz_UoE",
        "outputId": "130fa44e-aecd-4ff6-e52b-dea9b115ac7e",
        "colab": {
          "base_uri": "https://localhost:8080/"
        }
      },
      "id": "p5wZpqCz_UoE",
      "execution_count": 27,
      "outputs": [
        {
          "output_type": "stream",
          "name": "stdout",
          "text": [
            "0.0 code source ...........................................................................................6 0.1 exemple de programme c .......................................................................6 0.2 compilation du code source ....................................................................7 0.3 rédaction, compilation, exécution ...........................................................7 0.4 exécution du programme ........................................................................8 0.5 langage formel ..................................................................................... 10\n"
          ]
        }
      ]
    },
    {
      "cell_type": "markdown",
      "id": "5mXq_Yx2i2YD",
      "metadata": {
        "id": "5mXq_Yx2i2YD"
      },
      "source": [
        "See the full set of element types for this particular article."
      ]
    },
    {
      "cell_type": "code",
      "execution_count": 28,
      "id": "EkW_QQp4i2YD",
      "metadata": {
        "ExecuteTime": {
          "end_time": "2025-01-02T12:38:23.994814Z",
          "start_time": "2025-01-02T12:38:23.985486Z"
        },
        "colab": {
          "base_uri": "https://localhost:8080/"
        },
        "id": "EkW_QQp4i2YD",
        "outputId": "6f9a1e52-9862-4fc3-926f-097af3a35ccc"
      },
      "outputs": [
        {
          "output_type": "execute_result",
          "data": {
            "text/plain": [
              "{'Footer', 'Header', 'ListItem', 'NarrativeText', 'Title', 'UncategorizedText'}"
            ]
          },
          "metadata": {},
          "execution_count": 28
        }
      ],
      "source": [
        "set(doc.metadata[\"category\"] for doc in docs) # extract data categories"
      ]
    },
    {
      "cell_type": "code",
      "execution_count": 29,
      "id": "7ec0c096",
      "metadata": {
        "ExecuteTime": {
          "end_time": "2025-01-02T12:38:24.002149Z",
          "start_time": "2025-01-02T12:38:23.997448Z"
        },
        "colab": {
          "base_uri": "https://localhost:8080/"
        },
        "id": "7ec0c096",
        "outputId": "8312c1d4-e943-49ee-875e-c9e706fe32cb"
      },
      "outputs": [
        {
          "output_type": "stream",
          "name": "stdout",
          "text": [
            "[metadata]\n",
            "['source', 'coordinates', 'file_directory', 'filename', 'languages', 'last_modified', 'page_number', 'filetype', 'category', 'element_id']\n",
            "\n",
            "[examples]\n",
            "source         : /content/prog_imperative_repdf.pdf\n",
            "coordinates    : {'points': ((150.113570495055, 220.65261745062128), (150.113570495055, 286.7727753724091), (454.18350242439965, 286.7727753724091), (454.18350242439965, 220.65261745062128)), 'system': 'PixelSpace', 'layout_width': 595.32001, 'layout_height': 841.92004}\n",
            "file_directory : /content\n",
            "filename       : prog_imperative_repdf.pdf\n",
            "languages      : ['eng']\n",
            "last_modified  : 2025-05-09T21:34:41\n",
            "page_number    : 1\n",
            "filetype       : application/pdf\n",
            "category       : Title\n",
            "element_id     : 5692ed2757ccfb04bf34cd20b8ad5c3a\n"
          ]
        }
      ],
      "source": [
        "show_metadata(docs)"
      ]
    },
    {
      "cell_type": "markdown",
      "id": "f5097872",
      "metadata": {
        "id": "f5097872"
      },
      "source": [
        "## PyPDFium2\n",
        "\n",
        "LangChain's [```PyPDFium2Loader```](\n",
        "https://python.langchain.com/api_reference/community/document_loaders/langchain_community.document_loaders.pdf.PyPDFium2Loader.html) integrates with [PyPDFium2](https://github.com/pypdfium2-team/pypdfium2) to parse PDF documents into LangChain Document objects."
      ]
    },
    {
      "cell_type": "code",
      "execution_count": 30,
      "id": "18c84bf5",
      "metadata": {
        "ExecuteTime": {
          "end_time": "2025-01-02T12:38:24.765674Z",
          "start_time": "2025-01-02T12:38:24.003606Z"
        },
        "colab": {
          "base_uri": "https://localhost:8080/"
        },
        "id": "18c84bf5",
        "outputId": "ec0750e3-cf1a-4ed4-f543-9db49256e1e1"
      },
      "outputs": [
        {
          "output_type": "stream",
          "name": "stderr",
          "text": [
            "/usr/local/lib/python3.11/dist-packages/pypdfium2/_helpers/textpage.py:80: UserWarning: get_text_range() call with default params will be implicitly redirected to get_text_bounded()\n",
            "  warnings.warn(\"get_text_range() call with default params will be implicitly redirected to get_text_bounded()\")\n"
          ]
        },
        {
          "output_type": "stream",
          "name": "stdout",
          "text": [
            "11\n",
            "12/02/22 09:03 © 2008~2012 par J. Feat\n",
            "① REPRÉSENTATIONS SYMBOLIQUES \n",
            "L'essentiel de l'activité de programmation avec un langage de haut niveau consiste à manipuler des \n",
            "symboles, non pas en tant que noms, mais pour ce qu'ils représentent : leur valeur. \n",
            "Et pour être utilisables, les symboles doi\n"
          ]
        }
      ],
      "source": [
        "from langchain_community.document_loaders import PyPDFium2Loader\n",
        "\n",
        "# create an instance of the PyPDFium2 loader\n",
        "loader = PyPDFium2Loader(FILE_PATH)\n",
        "\n",
        "# load data\n",
        "docs = loader.load()\n",
        "\n",
        "# print the contents of the document\n",
        "print(docs[10].page_content[:300])"
      ]
    },
    {
      "cell_type": "markdown",
      "id": "98d80f7a",
      "metadata": {
        "collapsed": false,
        "id": "98d80f7a"
      },
      "source": [
        "**Note**: When using ```PyPDFium2Loader```, you may notice warning messages related to ```get_text_range()```. These warnings are part of the library's internal operations and do not affect the PDF processing\n",
        "functionality. You can safely proceed with the tutorial despite these warnings, as they are\n",
        "a normal part of the development environment and do not impact the learning objectives."
      ]
    },
    {
      "cell_type": "code",
      "execution_count": 31,
      "id": "d4cd8966",
      "metadata": {
        "ExecuteTime": {
          "end_time": "2025-01-02T12:38:24.769632Z",
          "start_time": "2025-01-02T12:38:24.764497Z"
        },
        "colab": {
          "base_uri": "https://localhost:8080/"
        },
        "id": "d4cd8966",
        "outputId": "ebb2759b-ebd8-4699-e7d4-15c7c02545d5"
      },
      "outputs": [
        {
          "output_type": "stream",
          "name": "stdout",
          "text": [
            "[metadata]\n",
            "['producer', 'creator', 'creationdate', 'title', 'author', 'subject', 'keywords', 'moddate', 'source', 'total_pages', 'page']\n",
            "\n",
            "[examples]\n",
            "producer     : Microsoft: Print To PDF\n",
            "creator      : \n",
            "creationdate : 2025-05-09T18:14:45+01:00\n",
            "title        : Microsoft Word - conception de programmes _ l'approche impérative\n",
            "author       : \n",
            "subject      : \n",
            "keywords     : \n",
            "moddate      : 2025-05-09T18:14:45+01:00\n",
            "source       : /content/prog_imperative_repdf.pdf\n",
            "total_pages  : 124\n",
            "page         : 0\n"
          ]
        }
      ],
      "source": [
        "show_metadata(docs)"
      ]
    },
    {
      "cell_type": "markdown",
      "id": "5d2b2a6a",
      "metadata": {
        "id": "5d2b2a6a"
      },
      "source": [
        "## PDFMiner\n",
        "[PDFMiner](https://github.com/pdfminer/pdfminer.six) is a specialized Python library focused on text extraction and layout analysis from PDF documents.\n",
        "\n",
        "LangChain's [```PDFMinerLoader```](\n",
        "https://python.langchain.com/api_reference/community/document_loaders/langchain_community.document_loaders.pdf.PDFMinerLoader.html) integrates with PDFMiner to parse PDF documents into LangChain Document objects.\n"
      ]
    },
    {
      "cell_type": "code",
      "execution_count": 32,
      "id": "5feac159",
      "metadata": {
        "ExecuteTime": {
          "end_time": "2025-01-02T12:38:25.688660Z",
          "start_time": "2025-01-02T12:38:24.770005Z"
        },
        "colab": {
          "base_uri": "https://localhost:8080/"
        },
        "id": "5feac159",
        "outputId": "027c71b7-26c3-4824-c908-ffb205f49a14"
      },
      "outputs": [
        {
          "output_type": "stream",
          "name": "stdout",
          "text": [
            "conception de programmes \n",
            "l'approche impérative \n",
            "\n",
            "UNIVERSITÉ PARIS 8 \n",
            "\n",
            "SYNTHÈSE DE COURS \n",
            "EDF2LNia \n",
            "2012\n",
            "\f2 \n",
            "\n",
            "APPROCHE IMPÉRATIVE \n",
            "\n",
            "conception de programmes \n",
            "l'approche impérative \n",
            "\n",
            "Jym Feat \n",
            "\n",
            "5° édition, février 2012 \n",
            "\n",
            "Université Paris 8 \n",
            "département informatique \n",
            "UFR MITSIC \n",
            "institut d'enseignemen\n"
          ]
        }
      ],
      "source": [
        "from langchain_community.document_loaders import PDFMinerLoader\n",
        "\n",
        "# Create a PDFMiner loader instance\n",
        "loader = PDFMinerLoader(FILE_PATH)\n",
        "\n",
        "# load data\n",
        "docs = loader.load()\n",
        "\n",
        "# print the contents of the document\n",
        "print(docs[0].page_content[:300])"
      ]
    },
    {
      "cell_type": "code",
      "execution_count": 33,
      "id": "65a85f23",
      "metadata": {
        "ExecuteTime": {
          "end_time": "2025-01-02T12:38:25.693111Z",
          "start_time": "2025-01-02T12:38:25.688967Z"
        },
        "colab": {
          "base_uri": "https://localhost:8080/"
        },
        "id": "65a85f23",
        "outputId": "9e9b119a-7945-4a03-c302-d88ef8106749"
      },
      "outputs": [
        {
          "output_type": "stream",
          "name": "stdout",
          "text": [
            "[metadata]\n",
            "['producer', 'creator', 'creationdate', 'author', 'moddate', 'title', 'total_pages', 'source']\n",
            "\n",
            "[examples]\n",
            "producer     : Microsoft: Print To PDF\n",
            "creator      : PDFMiner\n",
            "creationdate : 2025-05-09T18:14:45+01:00\n",
            "author       : \n",
            "moddate      : 2025-05-09T18:14:45+01:00\n",
            "title        : Microsoft Word - conception de programmes _ l'approche impérative\n",
            "total_pages  : 124\n",
            "source       : /content/prog_imperative_repdf.pdf\n"
          ]
        }
      ],
      "source": [
        "show_metadata(docs)"
      ]
    },
    {
      "cell_type": "markdown",
      "id": "j91wStryi2YE",
      "metadata": {
        "id": "j91wStryi2YE"
      },
      "source": [
        "### Using PDFMiner to generate HTML text\n",
        "\n",
        "This method allows you to parse the output HTML content through [```BeautifulSoup```](https://www.crummy.com/software/BeautifulSoup/) to get more structured and richer information about font size, page numbers, PDF header/footer, etc. which can help you semantically split the text into sections."
      ]
    },
    {
      "cell_type": "code",
      "execution_count": 34,
      "id": "d299c2be",
      "metadata": {
        "ExecuteTime": {
          "end_time": "2025-01-02T12:38:26.632033Z",
          "start_time": "2025-01-02T12:38:25.694448Z"
        },
        "colab": {
          "base_uri": "https://localhost:8080/"
        },
        "id": "d299c2be",
        "outputId": "4cb017c0-8799-49d9-9526-17aad3105b05"
      },
      "outputs": [
        {
          "output_type": "stream",
          "name": "stdout",
          "text": [
            "<html><head>\n",
            "<meta http-equiv=\"Content-Type\" content=\"text/html\">\n",
            "</head><body>\n",
            "<span style=\"position:absolute; border: gray 1px solid; left:0px; top:50px; width:595px; height:841px;\"></span>\n",
            "<div style=\"position:absolute; top:50px;\"><a name=\"1\">Page 1</a></div>\n",
            "<div style=\"position:absolute; border\n"
          ]
        }
      ],
      "source": [
        "from langchain_community.document_loaders import PDFMinerPDFasHTMLLoader\n",
        "\n",
        "# create an instance of PDFMinerPDFasHTMLLoader\n",
        "loader = PDFMinerPDFasHTMLLoader(FILE_PATH)\n",
        "\n",
        "# load the document\n",
        "docs = loader.load()\n",
        "\n",
        "# print the contents of the document\n",
        "print(docs[0].page_content[:300])\n",
        "# Just for the"
      ]
    },
    {
      "cell_type": "code",
      "source": [],
      "metadata": {
        "id": "PhjXUP08XRGO",
        "outputId": "67a15ddb-65f9-43eb-f655-16b2fb27ccc3",
        "colab": {
          "base_uri": "https://localhost:8080/",
          "height": 287
        }
      },
      "id": "PhjXUP08XRGO",
      "execution_count": 83,
      "outputs": [
        {
          "output_type": "error",
          "ename": "AttributeError",
          "evalue": "'Document' object has no attribute 'text'",
          "traceback": [
            "\u001b[0;31m---------------------------------------------------------------------------\u001b[0m",
            "\u001b[0;31mAttributeError\u001b[0m                            Traceback (most recent call last)",
            "\u001b[0;32m<ipython-input-83-023dd54612e9>\u001b[0m in \u001b[0;36m<cell line: 0>\u001b[0;34m()\u001b[0m\n\u001b[0;32m----> 1\u001b[0;31m \u001b[0mdocs\u001b[0m\u001b[0;34m[\u001b[0m\u001b[0;36m0\u001b[0m\u001b[0;34m]\u001b[0m\u001b[0;34m.\u001b[0m\u001b[0mtext\u001b[0m\u001b[0;34m\u001b[0m\u001b[0;34m\u001b[0m\u001b[0m\n\u001b[0m",
            "\u001b[0;32m/usr/local/lib/python3.11/dist-packages/pydantic/main.py\u001b[0m in \u001b[0;36m__getattr__\u001b[0;34m(self, item)\u001b[0m\n\u001b[1;32m    987\u001b[0m                     \u001b[0;32melse\u001b[0m\u001b[0;34m:\u001b[0m\u001b[0;34m\u001b[0m\u001b[0;34m\u001b[0m\u001b[0m\n\u001b[1;32m    988\u001b[0m                         \u001b[0;31m# this is the current error\u001b[0m\u001b[0;34m\u001b[0m\u001b[0;34m\u001b[0m\u001b[0m\n\u001b[0;32m--> 989\u001b[0;31m                         \u001b[0;32mraise\u001b[0m \u001b[0mAttributeError\u001b[0m\u001b[0;34m(\u001b[0m\u001b[0;34mf'{type(self).__name__!r} object has no attribute {item!r}'\u001b[0m\u001b[0;34m)\u001b[0m\u001b[0;34m\u001b[0m\u001b[0;34m\u001b[0m\u001b[0m\n\u001b[0m\u001b[1;32m    990\u001b[0m \u001b[0;34m\u001b[0m\u001b[0m\n\u001b[1;32m    991\u001b[0m         \u001b[0;32mdef\u001b[0m \u001b[0m__setattr__\u001b[0m\u001b[0;34m(\u001b[0m\u001b[0mself\u001b[0m\u001b[0;34m,\u001b[0m \u001b[0mname\u001b[0m\u001b[0;34m:\u001b[0m \u001b[0mstr\u001b[0m\u001b[0;34m,\u001b[0m \u001b[0mvalue\u001b[0m\u001b[0;34m:\u001b[0m \u001b[0mAny\u001b[0m\u001b[0;34m)\u001b[0m \u001b[0;34m->\u001b[0m \u001b[0;32mNone\u001b[0m\u001b[0;34m:\u001b[0m\u001b[0;34m\u001b[0m\u001b[0;34m\u001b[0m\u001b[0m\n",
            "\u001b[0;31mAttributeError\u001b[0m: 'Document' object has no attribute 'text'"
          ]
        }
      ]
    },
    {
      "cell_type": "code",
      "execution_count": 35,
      "id": "0aacfd09",
      "metadata": {
        "ExecuteTime": {
          "end_time": "2025-01-02T12:38:26.639217Z",
          "start_time": "2025-01-02T12:38:26.633178Z"
        },
        "colab": {
          "base_uri": "https://localhost:8080/"
        },
        "id": "0aacfd09",
        "outputId": "103fda85-afb8-42de-c486-bb84c7d2c107"
      },
      "outputs": [
        {
          "output_type": "stream",
          "name": "stdout",
          "text": [
            "[metadata]\n",
            "['source']\n",
            "\n",
            "[examples]\n",
            "source : /content/prog_imperative_repdf.pdf\n"
          ]
        }
      ],
      "source": [
        "show_metadata(docs)"
      ]
    },
    {
      "cell_type": "code",
      "execution_count": 36,
      "id": "df728c9d",
      "metadata": {
        "ExecuteTime": {
          "end_time": "2025-01-02T12:38:27.009831Z",
          "start_time": "2025-01-02T12:38:26.639587Z"
        },
        "id": "df728c9d"
      },
      "outputs": [],
      "source": [
        "from bs4 import BeautifulSoup\n",
        "\n",
        "soup = BeautifulSoup(docs[0].page_content, \"html.parser\") # initialize HTML parser\n",
        "content = soup.find_all(\"div\") # search for all div tags"
      ]
    },
    {
      "cell_type": "code",
      "source": [
        "# prompt: i'd like to find the super repetitive headers/footers that tend to... pop up in every page\n",
        "\n",
        "from collections import Counter\n",
        "\n",
        "def find_repetitive_headers_footers(filepath):\n",
        "    \"\"\"\n",
        "    Finds repetitive headers and footers in a text file.\n",
        "\n",
        "    Args:\n",
        "        filepath: Path to the text file.\n",
        "\n",
        "    Returns:\n",
        "        A Counter object with the most frequent lines and their counts.\n",
        "    \"\"\"\n",
        "\n",
        "    try:\n",
        "        with open(filepath, 'r', encoding='utf-8') as file:  # Specify UTF-8 encoding\n",
        "            lines = file.readlines()\n",
        "    except FileNotFoundError:\n",
        "        print(f\"Error: File '{filepath}' not found.\")\n",
        "        return None\n",
        "\n",
        "    line_counts = Counter(line.strip() for line in lines) # Count line occurrences\n",
        "    return line_counts.most_common(20) # Return the 20 most frequent lines\n",
        "\n",
        "# Example usage\n",
        "filepath = \"/content/your_file.txt\"  # Replace with the actual path\n",
        "repetitive_lines = find_repetitive_headers_footers(filepath)\n",
        "\n",
        "if repetitive_lines:\n",
        "    print(\"Most frequent lines (potential headers/footers):\")\n",
        "    for line, count in repetitive_lines:\n",
        "      print(f\"'{line}' : {count} times\")\n"
      ],
      "metadata": {
        "id": "VOxet8tMY_AU",
        "outputId": "4cfb4cae-7097-45ab-9469-e9ffda836641",
        "colab": {
          "base_uri": "https://localhost:8080/"
        }
      },
      "id": "VOxet8tMY_AU",
      "execution_count": 88,
      "outputs": [
        {
          "output_type": "execute_result",
          "data": {
            "text/plain": [
              "[]"
            ]
          },
          "metadata": {},
          "execution_count": 88
        }
      ]
    },
    {
      "cell_type": "code",
      "execution_count": 37,
      "id": "15d75111",
      "metadata": {
        "ExecuteTime": {
          "end_time": "2025-01-02T12:38:27.021797Z",
          "start_time": "2025-01-02T12:38:27.019140Z"
        },
        "id": "15d75111"
      },
      "outputs": [],
      "source": [
        "import re\n",
        "\n",
        "cur_fs = None\n",
        "cur_text = \"\"\n",
        "snippets = []  # collect all snippets of the same font size\n",
        "for c in content:\n",
        "    sp = c.find(\"span\")\n",
        "    if not sp:\n",
        "        continue\n",
        "    st = sp.get(\"style\")\n",
        "    if not st:\n",
        "        continue\n",
        "    fs = re.findall(\"font-size:(\\d+)px\", st)\n",
        "    if not fs:\n",
        "        continue\n",
        "    fs = int(fs[0])\n",
        "    if not cur_fs:\n",
        "        cur_fs = fs\n",
        "    if fs == cur_fs:\n",
        "        cur_text += c.text\n",
        "    else:\n",
        "        snippets.append((cur_text, cur_fs))\n",
        "        cur_fs = fs\n",
        "        cur_text = c.text\n",
        "snippets.append((cur_text, cur_fs))\n",
        "# Note: Possibility to add a strategy for removing duplicate snippets (since the header/footer of a PDF appears across multiple pages, it can be considered duplicate information when found)"
      ]
    },
    {
      "cell_type": "code",
      "source": [
        "[(x[0], i) for i,x in enumerate(snippets) if x[1] == 11]"
      ],
      "metadata": {
        "id": "djoe5sjZMAWv",
        "outputId": "003a5ef2-97f2-4abf-c273-82aa43b81e6b",
        "colab": {
          "base_uri": "https://localhost:8080/"
        }
      },
      "id": "djoe5sjZMAWv",
      "execution_count": 65,
      "outputs": [
        {
          "output_type": "execute_result",
          "data": {
            "text/plain": [
              "[('0.0 CODE SOURCE \\n', 21),\n",
              " ('0.1 EXEMPLE DE PROGRAMME C \\n', 24),\n",
              " ('0.2 COMPILATION DU CODE SOURCE \\n', 29),\n",
              " ('0.3 RÉDACTION, COMPILATION, EXÉCUTION \\n', 33),\n",
              " ('0.4 EXÉCUTION DU PROGRAMME \\n', 38),\n",
              " ('0.5 LANGAGE FORMEL \\n', 74),\n",
              " ('1.1 DÉCLARATION : TYPE NOM \\n', 86),\n",
              " ('1.2 DÉCLARATION + DÉFINITION : TYPE NOM = VALEUR \\n', 94),\n",
              " ('1.3 REDÉFINITION : NOM = VALEUR \\n', 98),\n",
              " ('1.4 VARIABLE DÉNOTANT UNE SÉQUENCE \\n', 103),\n",
              " ('1.5 CONSTANTE ET VALEUR LITTÉRALE \\n', 115),\n",
              " ('1.6 VARIABLE GLOBALE \\n', 121),\n",
              " ('1.7 VARIABLE LOCALE \\n', 128),\n",
              " ('1.8 WHILE : ITÉRATION CONDITIONNELLE \\n', 134),\n",
              " (\"2.1 ANATOMIE D'UN PROGRAMME C STANDARD UNIX \\n\", 165),\n",
              " ('2.2 ACCÈS INDEXÉ\\n', 181),\n",
              " ('2.3 ACCÈS PAR RÉFÉRENCE : INDIRECTION \\n', 202),\n",
              " ('2.4 SÉQUENCES : REPRÉSENTATION INTERNE \\n', 222),\n",
              " ('2.5 SÉQUENCES NUMÉRIQUES \\n', 253),\n",
              " ('2.6 DÉFINITION DE FONCTIONS \\n', 264),\n",
              " ('2.7 PARAMÈTRES DE LA FONCTION MAIN \\n', 284),\n",
              " ('3.1 CARACTÈRES \\n', 310),\n",
              " ('3.2 CHIFFRES ET NOMBRES \\n', 317),\n",
              " (\"3.3 SCAN D'UNE SÉQUENCE DE CARACTÈRES \\n\", 327),\n",
              " ('3.4 TYPE ET TAILLE \\n', 337),\n",
              " ('3.5 USAGE \\n', 358),\n",
              " ('3.6 ANALYSE DES ARGUMENTS DE LA LDC \\n', 365),\n",
              " ('3.7\\n', 395),\n",
              " ('3.8 FOR : ITÉRATION CONDITIONNELLE \\n', 406),\n",
              " ('3.9 PROTOCOLE DE TEST UNITAIRE \\n', 413),\n",
              " ('4.1 FLUX STANDARD UNIX \\n', 453),\n",
              " (\"4.2 LECTURE ET ÉCRITURE D'UN FLUX STANDARD \\n\", 457),\n",
              " ('4.3 OUVERTURE DE FICHIERS, LECTURE ET ÉCRITURE \\n', 471),\n",
              " ('4.4 ACCÈS ORIENTÉ MOT \\n', 489),\n",
              " ('4.5 ACCÈS ORIENTÉ LIGNE \\n', 524),\n",
              " ('4.6 ACCÈS ORIENTÉ MÉMOIRE \\n', 535),\n",
              " ('5.1 REPRÉSENTATION DES DONNÉES \\n', 590),\n",
              " ('5.2 MÉCANIQUE DU TRAITEMENT \\n', 612),\n",
              " ('5.3 TESTS DE RÉGRESSION \\n', 644),\n",
              " ('5.4 STRUCTURES \\n', 654),\n",
              " (\"5.5 TRI D'UNE TABLE \\n\", 683),\n",
              " ('5.6 LISTES : MISE EN ŒUVRE \\n', 704),\n",
              " ('5.7 LISTES DE RÉFÉRENCES \\n', 729),\n",
              " ('6.1 CONSTRUCTION DE PROTOTYPES \\n', 768),\n",
              " ('6.2 POINTS DE VUE CULTURELS \\n', 803),\n",
              " ('7.1 TYPES DE FICHIER \\n', 873),\n",
              " ('7.2 PRÉ-TRAITEMENT \\n', 876),\n",
              " ('7.3 CODE SYMBOLIQUE \\n', 888),\n",
              " ('7.4 COMPILATION \\n', 899),\n",
              " ('7.5 BIBLIOTHÈQUE  STATIQUE \\n', 915),\n",
              " ('7.6 BIBLIOTHÈQUE  DYNAMIQUE \\n', 930),\n",
              " ('7.7 MODULES AUTOUR DE GCC \\n', 941),\n",
              " (\"7.8 MODULES D'EXTENSION \\n\", 999),\n",
              " (\"$ ajouter du code pour initialiser le module, c'est appeler la fonction C Py_InitModule() en lui passant le \\n\",\n",
              "  1011),\n",
              " ('7.9\\n', 1026)]"
            ]
          },
          "metadata": {},
          "execution_count": 65
        }
      ]
    },
    {
      "cell_type": "code",
      "source": [
        "# snippets[20] # Fits the first sub section 0.0 CODE SOURCE\n",
        "snippets[1011]"
      ],
      "metadata": {
        "id": "zehrf-UkWLn3",
        "outputId": "4ad192f0-5d43-45dc-f11a-a4eb2d4505a7",
        "colab": {
          "base_uri": "https://localhost:8080/"
        }
      },
      "id": "zehrf-UkWLn3",
      "execution_count": 87,
      "outputs": [
        {
          "output_type": "execute_result",
          "data": {
            "text/plain": [
              "(\"$ ajouter du code pour initialiser le module, c'est appeler la fonction C Py_InitModule() en lui passant le \\n\",\n",
              " 11)"
            ]
          },
          "metadata": {},
          "execution_count": 87
        }
      ]
    },
    {
      "cell_type": "code",
      "execution_count": 38,
      "id": "8061d2e5",
      "metadata": {
        "ExecuteTime": {
          "end_time": "2025-01-02T12:38:27.045619Z",
          "start_time": "2025-01-02T12:38:27.029184Z"
        },
        "colab": {
          "base_uri": "https://localhost:8080/"
        },
        "id": "8061d2e5",
        "outputId": "cb7930cd-c723-40ba-a798-053418f3d9eb"
      },
      "outputs": [
        {
          "output_type": "stream",
          "name": "stdout",
          "text": [
            "page_content='APPROCHE IMPÉRATIVE \n",
            "' metadata={'heading': '0.0 CODE SOURCE \\n', 'content_font': 8, 'heading_font': 11, 'source': '/content/prog_imperative_repdf.pdf'}\n"
          ]
        }
      ],
      "source": [
        "from langchain_core.documents import Document\n",
        "\n",
        "cur_idx = -1\n",
        "semantic_snippets = []\n",
        "# Assumption: headings have higher font size than their respective content\n",
        "for s in snippets:\n",
        "    # if current snippet's font size > previous section's heading => it is a new heading\n",
        "    if (\n",
        "        not semantic_snippets\n",
        "        or s[1] > semantic_snippets[cur_idx].metadata[\"heading_font\"]\n",
        "    ):\n",
        "        metadata = {\"heading\": s[0], \"content_font\": 0, \"heading_font\": s[1]}\n",
        "        metadata.update(docs[0].metadata)\n",
        "        semantic_snippets.append(Document(page_content=\"\", metadata=metadata))\n",
        "        cur_idx += 1\n",
        "        continue\n",
        "\n",
        "    # if current snippet's font size <= previous section's content => content belongs to the same section (one can also create\n",
        "    if (\n",
        "        not semantic_snippets[cur_idx].metadata[\"content_font\"]\n",
        "        or s[1] <= semantic_snippets[cur_idx].metadata[\"content_font\"]\n",
        "    ):\n",
        "        semantic_snippets[cur_idx].page_content += s[0]\n",
        "        semantic_snippets[cur_idx].metadata[\"content_font\"] = max(\n",
        "            s[1], semantic_snippets[cur_idx].metadata[\"content_font\"]\n",
        "        )\n",
        "        continue\n",
        "\n",
        "    # if current snippet's font size > previous section's content but less than previous section's heading than also make a new\n",
        "    metadata = {\"heading\": s[0], \"content_font\": 0, \"heading_font\": s[1]}\n",
        "    metadata.update(docs[0].metadata)\n",
        "    semantic_snippets.append(Document(page_content=\"\", metadata=metadata))\n",
        "    cur_idx += 1\n",
        "\n",
        "print(semantic_snippets[4])"
      ]
    },
    {
      "cell_type": "code",
      "source": [
        "#print(semantic_snippets[20].page_content)\n"
      ],
      "metadata": {
        "id": "wJ0eZ3hEADCF",
        "outputId": "c1e66a1d-02f0-48b2-fe0d-301728e5de39",
        "colab": {
          "base_uri": "https://localhost:8080/",
          "height": 162
        }
      },
      "id": "wJ0eZ3hEADCF",
      "execution_count": 52,
      "outputs": [
        {
          "output_type": "error",
          "ename": "TypeError",
          "evalue": "object of type 'Document' has no len()",
          "traceback": [
            "\u001b[0;31m---------------------------------------------------------------------------\u001b[0m",
            "\u001b[0;31mTypeError\u001b[0m                                 Traceback (most recent call last)",
            "\u001b[0;32m<ipython-input-52-021d45688fec>\u001b[0m in \u001b[0;36m<cell line: 0>\u001b[0;34m()\u001b[0m\n\u001b[1;32m      1\u001b[0m \u001b[0;31m#print(semantic_snippets[20].page_content)\u001b[0m\u001b[0;34m\u001b[0m\u001b[0;34m\u001b[0m\u001b[0m\n\u001b[0;32m----> 2\u001b[0;31m \u001b[0mlen\u001b[0m\u001b[0;34m(\u001b[0m\u001b[0msemantic_snippets\u001b[0m\u001b[0;34m[\u001b[0m\u001b[0;36m20\u001b[0m\u001b[0;34m]\u001b[0m\u001b[0;34m)\u001b[0m\u001b[0;34m\u001b[0m\u001b[0;34m\u001b[0m\u001b[0m\n\u001b[0m",
            "\u001b[0;31mTypeError\u001b[0m: object of type 'Document' has no len()"
          ]
        }
      ]
    },
    {
      "cell_type": "code",
      "source": [
        "# prompt: i wanna count the number of tokens for a certain string (very important for the embedding model later)\n",
        "\n",
        "from transformers import GPT2TokenizerFast\n",
        "\n",
        "tokenizer = GPT2TokenizerFast.from_pretrained(\"gpt2\")\n",
        "\n",
        "def count_tokens(text):\n",
        "  return len(tokenizer.encode(text))\n",
        "\n",
        "# Example usage\n",
        "max\n",
        "for doc in semantic_snippets:\n",
        "  if count_tokens(doc.page_content) > max:\n",
        "    max = count_tokens(doc.page_content)\n",
        "    max_doc = doc\n",
        "print(max)\n",
        "print(max_doc.page_content)\n",
        "\n",
        "top10_length = []\n",
        "for doc in semantic_snippets:\n",
        "  top10_length.append(count_tokens(doc.page_content))\n",
        "top10_length.sort(reverse=True)\n",
        "print(top10_length[:10])\n",
        "\n",
        "# Apply to the document\n",
        "# docs_token_count = [count_tokens(doc.page_content) for doc in docs]\n",
        "# print(f\"The docs have {docs_token_count} tokens each.\")\n",
        "\n",
        "# total_tokens = sum(docs_token_count)\n",
        "# print(f\"Total tokens in all documents: {total_tokens}\")\n"
      ],
      "metadata": {
        "id": "OpM6aXmFHX_A",
        "outputId": "772dd44d-428b-40f3-bfc2-ffbf8e192ac5",
        "colab": {
          "base_uri": "https://localhost:8080/"
        }
      },
      "id": "OpM6aXmFHX_A",
      "execution_count": 59,
      "outputs": [
        {
          "output_type": "stream",
          "name": "stderr",
          "text": [
            "Token indices sequence length is longer than the specified maximum sequence length for this model (2373 > 1024). Running this sequence through the model will result in indexing errors\n"
          ]
        },
        {
          "output_type": "stream",
          "name": "stdout",
          "text": [
            "8802\n",
            "Dans l'expérience précédente, l'important n'était pas tant de réaliser le programme idéal que de \n",
            "comprendre comment deux cultures peuvent privilégier des approches différentes. \n",
            "En plus modeste, voici l'exemple d'un petit programme elisp (i.e. EMACS LISP) qui convertit en binaire un \n",
            "nombre en base 10. Sauriez-vous le transcoder en CLISP, en PYTHON et en C ? \n",
            "12/02/22 09:03 © 2008~2012 par J. Feat\n",
            "84 \n",
            "APPROCHE IMPÉRATIVE \n",
            "; conversion base 10 -> base 2 \n",
            "; elisp \n",
            "(defun binaire (int &optional bin) \n",
            "(cond \n",
            "((zerop int) (apply 'concat bin)) \n",
            "((zerop (% int 2)) (binaire (/ int 2) (cons \"0\" bin))) \n",
            "((binaire (/ (1- int) 2) (cons \"1\" bin))) ) ) \n",
            "[px20.0][cx20.1]  coder la conversion décimal ! binaire, d'abord en CLISP, en PYTHON, puis en C, où le \n",
            "programme devra faire la somme de 2 nombres binaires passés sur la LdC. \n",
            "On avait, quelques pages plus haut, évoqué l'algorithme du QUICK SORT et sa mise œuvre avec \n",
            "l'approche fonctionnelle, comme celle de PYTHON ou de LISP. Maintenant, comment le transcoder en C, \n",
            "autrement dit, comment exprimer un MAPPING sur une liste, du genre : [x for x in L[1:] if x < pivot] \n",
            "Okay, nous n'avons pas l'équivalent du mapcar() de LISP, ni de la liste intensionnelle de PYTHON et de \n",
            "HASKELL, mais nous savons à quelle structure de contrôle ça correspond  : une itération sur une liste \n",
            "recueillant le résultat de l'évaluation d'une expression pour chaque élément de la liste. \n",
            "Nous avons donc deux solutions à notre disposition : \n",
            "1. simuler le mécanisme interne au moyen de structures de contrôle C standard \n",
            "l'émuler par une véritable mise en œuvre de l'approche fonctionnelle en C \n",
            "2.\n",
            "La solution 1 suppose simplement une bonne compréhension des mécanismes fonctionnels, qu'il \n",
            "suffirait de transcoder en ANSI-C pour traiter l'information de manière équivalente, bien que l'expression \n",
            "de ce traitement sera obligatoirement moins concis, plus verbeux. \n",
            "Choisir la solution 2 représente un investissement : la question est qu'est-ce que ça nous coûte, et \n",
            "qu'on y gagne ; cet investissement vaut certainement la peine s'il nous permet ensuite de gagner du \n",
            "temps dans le DESIGN et la réalisation d'applications : après tout, si ces fonctionnalités sont disponibles \n",
            "en HASKELL, LISP, PYTHON ou RUBY, leur mise en œuvre ne doit pas être terriblement difficile, puisque \n",
            "ces langages sont justement « fabriqués » en C…\n",
            "Justement… voici, par exemple, à quoi pourrait ressembler un mapcar() travaillant sur des listes : \n",
            "list mapcar(str(*F)(), list L)\n",
            "{ if (not L) return nil ; \n",
            "return cons(F(L -> car), mapcar(F, L -> cdr)) ; } \n",
            "// F : réf. à une fonction qui retourne un str\n",
            "en admettant que str et list soient définis comme on l'a déjà fait au chapitre 5, sauf qu'ici la liste aurait \n",
            "un car de type str – et non int comme précédemment. \n",
            " ARGUMENT FONCTIONNEL \n",
            "On avait déjà vu, à propos de qsort(), qu'une fonction pouvait prendre comme argument une autre \n",
            "fonction, et ceci parce qu'un symbole de fonction est, implicitement, une référence. Notre mapcar() ci- \n",
            "dessus a donc, comme en LISP, 2 paramètres : \n",
            "• un symbole F de fonction \n",
            "• une liste L \n",
            "sachant que cette fonction F sera appliquée à chaque élément de la liste L, le résultat de l'application \n",
            "de F étant « consé » avec la liste des résultats de ses applications successives au reste (i.e. au cdr) de \n",
            "la liste. \n",
            "Note : pour simplifier, j'ai fait comme si que la fonction F s'appliquait à une chaîne et retournait une \n",
            "chaîne ; ça pourrait être la fonction strupper() définie il y a deux pages. J'utiliserai donc mon nouveau \n",
            "mapcar() en disant tout simplement : \n",
            "list R = mapcar(strupper, UneListe) ; \n",
            "// où strupper() est une fonction\n",
            "12/02/22 09:03 © 2008~2012 par J. Feat\n",
            "6. ANGLES D'ATTAQUE \n",
            "85 \n",
            "Cet exemple peut être téléchargé à partir de [cx20.2], démonstration qu'il n'est pas si coûteux que ça \n",
            "de mettre en œuvre une approche fonctionnelle en C... \n",
            " PARTITIONNER POUR RÉGNER \n",
            "Vous avez probablement essayé le code de la fonction vite() {cf. notes du chapitre 5} et constaté que \n",
            "bien que l'algorithme puisse paraître simplet, il n'en est pas moins robuste : la première leçon à tirer \n",
            "de cette expérience est que point n'est besoin de faire complexe pour faire fiable. \n",
            "Deuxième observation : le code PYTHON fait (implicitement) des copies des éléments qui l'intéressent \n",
            "pour réaliser ses partitions. Le résultat de la fonction vite() est donc distinct des données originales, \n",
            "alors que, de toute évidence, qsort() travaille « sur place » (comme, d'ailleurs, la méthode sort() de \n",
            "PYTHON), et n'a donc pas besoin de retourner une valeur : c'est le vecteur passé en argument qui est \n",
            "trié directement, ses éléments étant réorganisés. \n",
            "Troisième observation : le code PYTHON manipule exclusivement des listes, autrement dit des \n",
            "références, des adresses. Il n'y a donc pas, à proprement parler, de copies de valeurs : juste des \n",
            "copies de pointeurs. \n",
            "Mais en PYTHON, comme en LISP, tout est référence : la représentation des données est donc uniforme \n",
            "pour tout le programme. Émuler cet aspect des choses signifierait donc, pour nous, convertir toutes \n",
            "nos structures de données statiques en structures dynamiques… Là, je dis : rien d'impossible ! \n",
            "Alors nous pourrions effectivement utiliser mapcar() pour sélectionner les éléments qui constituent une \n",
            "partition. Sauf que là, on se rend compte que mapcar() travaille avec des fonctions, pas des expressions \n",
            "relationnelles, et qu'il faudrait donc coder une fonction pour définir la relation inférieur (et une autre \n",
            "pour supérieur ou égal). \n",
            "Et ces fonctions seront obligatoirement spécifiques du type de donnée. Comme ANSI-C n'a pas le \n",
            "concept de type de donnée, il faudra multiplier des versions spécifiques de chaque fonction, appellées \n",
            "après avoir vérifié qu'on est bien dans les conditions requises d'application, etc... \n",
            "La plupart des programmeurs reculerait devant la lourdeur impliquée par ces considérations : autant \n",
            "programmer directement en PYTHON ou en LISP. \n",
            "À notre niveau, nous n'avons donc pas vraiment le choix : il faut tout repenser en C, et le prototype \n",
            "PYTHON ne nous est plus vraiment d'une grande utilité... Sauf sur un point : le principe de partitionner \n",
            "l'ensemble des valeurs. \n",
            "Nous allons donc commencer par transcoder en C les 2 dernières lignes du programme PYTHON : le \n",
            "DRIVER qui ne sert qu'à appeler la fonction vite() à tester – ceci s'appelle un unit test (test unitaire) : dans \n",
            "un contexte professionnel, chaque unité fonctionnelle est ainsi testée, les résultats étant conservés \n",
            "pour d'éventuels tests de régression. \n",
            "int main () \n",
            "{ int val[] = {4, 9, 1, 6, 0, 5, 8, 2, 3, 7} ; \n",
            "int max = sizeof (val) / sizeof (int) - 1 ; \n",
            "vite(val, 0, max) ; \n",
            "montre(val, max) ; \n",
            "return 0 ; } \n",
            "Bien entendu, pour le réalisme d'un tel unit test, ce serait mieux si main() lisait les valeurs à trier sur la \n",
            "LIGNE DE COMMANDE, moyen immédiat de lui fournir de multiples jeux de valeurs à tester, avec des \n",
            "scripts, typiquement ; mais, pour l'instant, évitons de nous disperser. \n",
            "Je code à part une fonction montre(), pour au moins deux raisons : \n",
            "•  main() reste ainsi aussi sobre que possible \n",
            "•  montre() peut éventuellement servir de témoin en d'autres points du programme \n",
            "12/02/22 09:03 © 2008~2012 par J. Feat\n",
            "86 \n",
            "APPROCHE IMPÉRATIVE \n",
            "void montre(int * val, int max) \n",
            "{ int x = 0 ; \n",
            "while (x <= max) printf(\"%i \", val[x++]) ; \n",
            "puts(\"\") ; } \n",
            "Les deux malheureuses lignes du driver PYTHON sont devenues dix lignes de code C, mais je ne vois \n",
            "pas bien comment faire plus économique... \n",
            "Bref, l'intérêt de cette approche descendante, c'est que ma démarche reste guidée par le prototype, \n",
            "aussi longtemps que des considérations pratiques ne me contraignent pas à m'en éloigner. \n",
            "Toujours selon le principe diviser pour régner, la fonction vite() doit être conçue pour distinguer trois \n",
            "cas possibles, à tout moment du traitement : \n",
            "1.\n",
            "la valeur choisie comme PIVOT se trouve être supérieure (ou égale) à toutes les autres : \n",
            "il n'y a qu'une partition à traiter, la séquence entière \n",
            "la valeur-PIVOT est inférieure à toutes les autres : pareil \n",
            "2.\n",
            "3. autrement, traiter séparément l'ensemble des valeurs inférieures et l'autre… \n",
            "Il apparaît alors qu'il nous faut une fonction partition(), capable de réaliser une partition de cet ensemble \n",
            "de valeurs, de placer l'élément-pivot entre les 2 ensembles, et de retourner l'indice de la valeur choisie \n",
            "comme pivot ; je code donc – par anticipation : \n",
            "void vite (int val[], int gauche, int droite) \n",
            "{  int pivot = partition(val, gauche, droite) ; \n",
            "if (gauche < pivot) \n",
            "vite(val, gauche, pivot - 1) ; \n",
            "if (droite > pivot) \n",
            "vite(val, pivot + 1, droite) ; } \n",
            "Dans cette fonction vite(), il n'y a pas de else : les tests ne sont exclusifs qu'implicitement, si on a affaire \n",
            "au cas 1 ou 2, mais nous n'avons pas besoin de les distinguer ; tout ce qui nous intéresse, c'est qu'il \n",
            "n'y a qu'un cas terminal, celui où l'indice de la valeur-pivot, nommé pivot, n'est ni l'indice minimum \n",
            "(gauche) de la partition, ni son indice maximum (droite). \n",
            "C'est le cas particulier d'une partition vide, celui où il n'y a justement aucune information à traiter ; \n",
            "d'ailleurs, le code PYTHON de vite() le testait explicitement : \n",
            "if len(L) < 2 : return L \n",
            "tout en l'optimisant, puis qu'il n'y a évidemment rien à faire non plus quand la partition ne contient \n",
            "qu'un seul élément... \n",
            "La partie cruciale du traitement est donc effectuée par cette fonction partition(), qui a en même temps \n",
            "un EFFET et une VALEUR : \n",
            "• EFFET parce qu'elle redispose les valeurs par rapport à la valeur-pivot,\n",
            "• VALEUR parce qu'elle retourne la nouvelle position (en terme d'indice) de l'élément-pivot, lui aussi \n",
            "redisposé exactement entre les deux partitions.\n",
            "Mais voyez plutôt… \n",
            "12/02/22 09:03 © 2008~2012 par J. Feat\n",
            "6. ANGLES D'ATTAQUE \n",
            "87 \n",
            " MÉCANIQUE DU TRAITEMENT \n",
            "• soit une séquence val[] de valeurs\n",
            "• soit les indices extrêmes, g et d, de la séquence val[]\n",
            "• prend la valeur la plus à gauche, val[g]\n",
            "• et mémorise-la comme valeur-pivot\n",
            "•  val[g] étant dupliqué, sa place est « vacante »\n",
            "• partant de val[d], scanne la séquence de droite à gauche à la \n",
            "recherche d'une valeur inférieure au pivot\n",
            "l'ayant trouvée pour un certain d, remplace val[g] par ce val[d]\n",
            "incrémente g\n",
            "la valeur déplacée est ici représentée en gris\n",
            "•\n",
            "•\n",
            "•\n",
            "l'élément val[d] est maintenant en double\n",
            "•\n",
            "• et sa place est vacante, indiquée par des pointillés\n",
            "• partant de val[g],\n",
            "• scanne la séquence de gauche à droite,\n",
            "• en quête d'une valeur supérieure (ou égale) au pivot\n",
            "l'ayant trouvée pour un certain g,\n",
            "•\n",
            "• remplace val[d] qui est vacant, par val[g]\n",
            "• décrémente d\n",
            "•\n",
            "• donc grisé\n",
            "l'élément val[g] est maintenant en double\n",
            "• et sa place est disponible, comme l'indiquent les pointillés\n",
            "• partant de val[d], scanne la séquence de droite à gauche à la \n",
            "recherche d'une valeur inférieure au pivot\n",
            "•\n",
            "•\n",
            "•\n",
            "•\n",
            "l'ayant trouvée pour un certain d, remplace val[g] par val[d]\n",
            "incrémente g\n",
            "la valeur recopiée est représentée en gris\n",
            "l'élément val[d] est maintenant en double\n",
            "• repartant de val[g], scanne la séquence de gauche à droite, en \n",
            "quête d'une valeur supérieure (ou égale) au pivot\n",
            "• stop quand g coïncide avec d : le scan est complet\n",
            "• remplace alors val[d] (ou val[g], c'est pareil), par la valeur pivot\n",
            "mémorisée au début \n",
            "• retourne g comme valeur de la fonction\n",
            "12/02/22 09:03 © 2008~2012 par J. Feat\n",
            "88 \n",
            "APPROCHE IMPÉRATIVE \n",
            "D'un point de vue mécanique, la fonction partition() est donc une boucle où vont alterner des scans \n",
            "descendants et ascendants jusqu'à coïncidence des index gauche et droite. \n",
            "Les scans descendants rejettent vers le bas (i.e. vers la gauche) les valeurs inférieures au pivot, \n",
            "tandis que les scans ascendants repoussent les autres valeurs vers le haut, autrement dit vers la \n",
            "droite. \n",
            "Quand les index gauche et droite se rencontrent, les partitions sont homogènes – encore que pas \n",
            "forcément de même taille ; quant à l'élément-pivot, il est inséré entre les deux partitions, ce qui fait \n",
            "que, par rapport à ces dernières, il est implicitement trié. \n",
            "La valeur numérique retournée, le point de rencontre, est l'indice de l'élément-pivot dans val[], indice \n",
            "utilisé par vite() pour délimiter et traiter récursivement les deux partitions : \n",
            "•\n",
            "•\n",
            "•\n",
            "les valeurs à gauche du pivot constituent la partition 1 ; \n",
            "elles sont toutes inférieures à la valeur-pivot ;\n",
            "le pivot,lui, occupe sa place définitive et ne bougera plus ;\n",
            "les valeurs à droite du pivot constituent la partition 2 ; \n",
            "elles sont toutes supérieures (ou égale) à la valeur-pivot.\n",
            "Notez que dans chaque partition, les valeurs sont encore en désordre ; peut-être même plus en \n",
            "désordre qu'avant, comme c'est le cas dans l'exemple ci-dessus : de par son DESIGN même, le tri \n",
            "effectif ne sera réalisé que lorsque que la partition traitée a 3 éléments – ou moins. \n",
            "int partition (int val[], int gauche, int droite) \n",
            "{  int valpiv = val[gauche] ; \n",
            "while (gauche < droite) \n",
            "{  while ((val[droite] >= valpiv) && (gauche < droite)) droite-- ; \n",
            "if (gauche != droite) \n",
            "{  val[gauche] = val[droite] ; \n",
            "gauche++ ; } \n",
            "while ((val[gauche] <= valpiv) && (gauche < droite)) gauche++ ; \n",
            "if (gauche != droite) \n",
            "{  val[droite] = val[gauche] ; \n",
            "droite-- ; } } \n",
            "val[gauche] = valpiv ; \n",
            "return gauche ; } \n",
            "Le code complet de cet exemple peut être téléchargé à partir de ce lien [cx21.0]. \n",
            "[cx21.1] \n",
            "adapter cet exemple pour qu'il prenne les valeurs à trier (en nombre quelconque, sous la \n",
            "forme d'entiers positifs ou négatifs) à partir de la ligne de commande ou à partir d'un \n",
            "fichier ; verriez vous une optimisation évidente à apporter à ce programme ? \n",
            "[cx21.2] \n",
            "adapter plus profondément [cx21.1] pour qu'à l'instar de qsort() il puisse trier n'importe quel \n",
            "type de valeur, tant que les données sont homogènes. \n",
            "Ce dernier exercice est proposé parce qu'il soulève de vrais problèmes de DESIGN : pour voir jusqu'où \n",
            "ça peut aller, lire http://www.corpit.ru/mjt/qsort.html\n",
            "Ceci dit, on a carrément écrit des livres sur ce sujet… Il y a des ingénieurs qui passent leur vie à \n",
            "optimiser cet algorithme, et d'autres qui trouvent que l'important c'est la simplicité de l'expression de la \n",
            "solution : d'où le débat qui fait rage pour décider quel est le MEILLEUR langage... \n",
            "Allez-donc voir le comparatif de http://fr.wikipedia.org/wiki/tri_rapide et faites-vous votre propre opinion !\n",
            "12/02/22 09:03 © 2008~2012 par J. Feat\n",
            "6. ANGLES D'ATTAQUE \n",
            " BILAN\n",
            "89 \n",
            "Ceci conclut la confrontation des approches respectives de ces différents langages, et montre qu'il \n",
            "peut y avoir des cas où les cultures sont difficilement transposables. \n",
            "On ne peut pas pour autant conclure qu'une approche est meilleure qu'une autre ; mais il devrait être \n",
            "évident que, pour certains problèmes, une solution optimale peut s'avérer plus ou moins intuitive selon \n",
            "la démarche adoptée, donc l'altitude du point de vue. \n",
            "Il en ressort que les langages de haut niveau disposent de fonctionnalités d'une telle altitude qu'elles \n",
            "sont difficilement compatibles avec le point de vue très près des données d'un langage de bas niveau. \n",
            "Voici, par exemple, la première intuition du QUICK SORT par un programmeur HASKELL : \n",
            "quicksort(x:xs) = (quicksort $ filter(x) xs) \n",
            "… allez donc traduire ça en ANSI-C, et donnez-m'en des nouvelles ! \n",
            "Le cas du QUICK SORT est cependant assez particulier, pour deux raisons : \n",
            "il manipule directement les données en mémoire\n",
            "•\n",
            "• sa vocation (trier rapidement des données volumineuses) oblige à optimiser le code\n",
            "Mais il ne faut pas pour autant dévaluer le DESIGN du premier prototype : il y a souvent, dans une \n",
            "approche naïve, donc « loin » de la machine, de bonnes idées qui correspondent mieux à notre \n",
            "intuition, et sont, de ce fait, plus facilement conceptualisables, et par conséquent, plus facilement \n",
            "programmables. \n",
            "Ceci nous conduira plus tard à envisager la conception de programmes sous une forme totalement \n",
            "abstraite, à la fois loin de la machine et loin des langages : le concept de type de donnée abstrait est \n",
            "la clé qui ouvrirait toutes les portes possibles pour cette technologie. Le seul problème, c'est que nous \n",
            "n'avons pas encore assez d'imagination pour oser faire cette abstraction de façon radicale. \n",
            "12/02/22 09:03 © 2008~2012 par J. Feat\n",
            "90 \n",
            " NOTES \n",
            " à PROPOS DES OPÉRATEURS SUR LES BITS\n",
            "BITWISE LOGICAL OPERATORS \n",
            "APPROCHE IMPÉRATIVE \n",
            "Nous n'en avons pas eu vraiment besoin jusqu'ici : ces opérateurs permettent de manipuler la \n",
            "représentation binaire d'un octet ; ils ne s'appliquent qu'aux entiers, y compris les caractères, et \n",
            "supposent que les nombres sont représentés en complément à 2. \n",
            "expr \n",
            "opération \n",
            "effet \n",
            "utilisation \n",
            "~x\n",
            "x << y\n",
            "x >> y\n",
            "x & y\n",
            "x | y\n",
            "x ^ y\n",
            "négation \n",
            "décalage à gauche \n",
            "décalage à droite \n",
            "et \n",
            "ou inclusif \n",
            "ou exclusif \n",
            "0101 ! 1010\n",
            "001 << 1 ! 010  multiplication par 2y \n",
            "complément à 1 \n",
            "010 >> 1 ! 001 \n",
            "111 & 010 ! 010  masque x par y \n",
            "division entière par 2y \n",
            "100 | 001 ! 101 \n",
            "101 ^ 111 ! 010 \n",
            "combine deux valeurs \n",
            "inverse les bits communs \n",
            "L'opérateur & peut se comprendre comme une multiplication bit à bit, tandis que le | serait une addition \n",
            "bit à bit... Ces opérateurs ont tous – sauf la négation, parce qu'elle est unaire – un équivalent en \n",
            "affectation cumulative (augmented assignment), de la forme x |= y, qui exprime en fait la même chose \n",
            "que x = x | y, en plus concis. \n",
            "Comme ils fonctionnent exactement de la même façon en PYTHON, vous pouvez les utiliser directement \n",
            "sous l'interprète pour vous familiariser avec leur comportement. \n",
            ">>> x = 7 ; x <<= 2 ; x # 7 * 2 * 2 \n",
            "28 \n",
            ">>> 1 | 4 # 0b001 | 0b100 \n",
            "5 \n",
            ">>> chr(ord('a') & ~0x20) # 0b01100001 & 0b11011111 \n",
            "'A' \n",
            "Sans oublier ce grand classique, qui échange les valeurs de x et y en 3 instructions : \n",
            ">>> x = 5 ; y = 10 \n",
            ">>> x ^= y ; x \n",
            "15 \n",
            ">>> y ^= x ; y \n",
            "5 \n",
            ">>> x ^= y ; x \n",
            "10 \n",
            "qu'on peut d'ailleurs émuler en PYTHON en une seule instruction : x, y = y, x \n",
            " à PROPOS DES OPÉRATEURS LOGIQUES BOOLÉENS\n",
            "Notez que l'opérateur ~ est, par définition, radicalement différent du ! booléen. D'ailleurs, ne pas \n",
            "confondre & ou | avec && et || : ces derniers, également d'arité 2, opèrent sur la valeur logique {0, 1} \n",
            "d'expressions évaluées de gauche à droite, et ce sont – comme en LISP  et en PYTHON – des \n",
            "évaluateurs « paresseux » : \n",
            "•\n",
            "l'opérateur && évalue ses opérandes tant qu'ils sont vrais, et retourne la conjonction des valeurs \n",
            "de vérité – il suffit qu'un opérande évalue à faux pour que toute l'expression évalue à faux, sans \n",
            "qu'il soit besoin d'évaluer les autres opérandes ;\n",
            "•\n",
            "l'opérateur || évalue ses opérandes jusqu'à ce qu'il y en ait un qui évalue à vrai ; il arrête alors \n",
            "l'évaluation et retourne vrai ; sinon, il retourne faux.\n",
            "12/02/22 09:03 © 2008~2012 par J. Feat\n",
            "6. ANGLES D'ATTAQUE \n",
            "91 \n",
            " LE PROBLÈME DE L'EFFET SECONDAIRE, OU SIDE EFFECT\n",
            "Notez que, dans le while de la définition de strupper(), je n'ai pas codé l'incrémentation de l'index comme \n",
            "je l'aurais fait normalement : *$ = toupper (*$++) ; la raison en est que toupper() n'est pas une fonction mais \n",
            "ce qu'on appelle une macro-définition, définie comme suit dans <ctype.h> : \n",
            "#define toupper(c) ((islower(c)) ? _toupper(c) : (c)) \n",
            "ce qui en fait une directive de substitution pour le préprocesseur, substitution complexe où le symbole \n",
            "c représente l'expression (*$++), qui va donc être évaluée 2 fois : la 1e au moment du test, la 2e  au \n",
            "moment de la conversion proprement dite ; ce qui reviendrait à coder : \n",
            "*$ = islower(*$++) ? _toupper($++) : ($++) ; \n",
            "ainsi, à la deuxième évaluation, la référence $ aura déjà été incrémentée, et c'est donc le caractère \n",
            "suivant qui serait véritablement converti en majuscule9. \n",
            "L'autre solution, évoquée plus haut, consisterait à modifier un seul bit de la représentation, celui qui \n",
            "fait la différence : \n",
            "'a' ! 0110 0001 ... 'z' ! 0111 1010 \n",
            "'A' ! 0100 0001 ... 'Z' ! 0101 1010 \n",
            "// bit 2 armé dans les minuscules\n",
            "// bit 2 désarmé dans les majuscules\n",
            "Il s'agit du bit de rang 2 (partant de la gauche), ce qui nous donne un MASQUE de 1101 11112, soit 22310 \n",
            "en décimal, 3378 en octal, ou 0xDF16 en hexadécimal. On l'appelle MASQUE parce que le and binaire (qui \n",
            "se dit &) va permettre de masquer ce bit (le basculer à 0) avec l'opération (*$) & 0xDF : \n",
            "while (*$) { *$ =(*$++) & 0xDF ; } \n",
            "// pretty obfuscated, isn't it ?\n",
            "Bon, c'était juste pour voir jusqu'où pouvait aller l'opacité d'un idiome... mais notez que c'est comme \n",
            "ça qu'on le programmerait en assembleur : parce que c'est ce qu'il y a de plus simple ! \n",
            " DÉMYSTIFIER LE TRAITEMENT DE BAS NIVEAU \n",
            "Le corrigé de [cx20.1] va peut-être vous surprendre : il travaille directement au niveau des bits de la \n",
            "représentation interne des données, autrement dit le plus bas niveau auquel on puisse descendre par \n",
            "programme. \n",
            "• La fonction bin() reçoit un nombre entier n (possiblement négatif), une chaîne bits qui va accueillir \n",
            "la représentation binaire, et un entier width. L'index x, utilisé pour accéder à bits, est initialisé à la \n",
            "valeur width de cette représentation, et va en balayer toutes les positions, de droite à gauche.\n",
            "• La boucle for évalue l'expression n & 1, où 1 joue le rôle de masque, mettant tous les bits à 0, \n",
            "sauf le dernier : le résultat est ainsi la valeur du dernier chiffre (binaire) du nombre n, donc 1 ou \n",
            "0, converti ensuite en caractère en y ajoutant le code ASCII du '0' (en tant que caractère). Ce \n",
            "résultat est placé dans bits[x].\n",
            "• À la passe suivante, x est décrémenté tandis que n est décalé d'un bit vers la droite (c'est le rôle \n",
            "de l'opérateur >>). De nouveau, donc, le bit le plus à droite va être converti en '1' ou '0', puis \n",
            "placé dans le vecteur bits ; et ainsi de suite... La fonction construit ainsi la chaîne de bits de \n",
            "gauche à droite.\n",
            "On a donc ici un traitement de très bas niveau, mais ce qui pourrait vous surprendre, c'est qu'il n'est \n",
            "pas spécifique à ANSI-C, et que les opérateurs pour effectuer ce traitement sont également disponibles \n",
            "dans les langages de haut niveau comme LISP, où il portent les noms de logand, lsh, logior, lognot...10\n",
            "La conclusion est que rien n'empêcherait donc le programmeur LISP de concevoir son traitement au \n",
            "niveau de la représentation bit à bit des valeurs en mémoire... mais sans doute a-t-il des objectifs de \n",
            "plus de plus haute volée ! \n",
            "9. cf. FUNCTIONS AND MACROS, page http://msdn2.microsoft.com/en-us/library/a8130zc6(VS.71).aspx\n",
            "10. cf. CLHS http://www.lispworks.com/documentation/HyperSpec/Body/f_logand.htm\n",
            "12/02/22 09:03 © 2008~2012 par J. Feat\n",
            "92 \n",
            " RÉCAPITULATION \n",
            "points essentiels \n",
            "APPROCHE IMPÉRATIVE \n",
            "structuration des données \n",
            "initialisation d'une structure, d'une table de structures \n",
            "•\n",
            "• directive de macro-définition \n",
            "• allocation dynamique d'un vecteur d'entier avec malloc() \n",
            "• calcul de la taille d'un vecteur avec sizeof \n",
            "opérations sur les données \n",
            "• cf. ctype.h : détection majuscule/minuscule, conversion, islower(), toupper(), _toupper()\n",
            "• principe du masquage de bits avec l'opérateur binaire & \n",
            "design de programmes \n",
            "intérêt d'un prototype \n",
            "•\n",
            "• stratégies d'une approche pluri-culturelle \n",
            "• programme monolithique contre multiples petites fonctions \n",
            "• conception intuitive et conception réaliste \n",
            "• mise en œuvre de mécanismes de très bas niveau \n",
            "12/02/22 09:03 © 2008~2012 par J. Feat\n",
            "\n",
            "[8802, 8738, 6194, 6079, 4864, 4637, 3901, 3898, 3860, 3590]\n"
          ]
        }
      ]
    },
    {
      "cell_type": "markdown",
      "id": "zknp67O4UaK6",
      "metadata": {
        "id": "zknp67O4UaK6"
      },
      "source": [
        "## PDFPlumber\n",
        "[PDFPlumber](https://github.com/jsvine/pdfplumber) is a PDF parsing library that excels at extracting text and tables from PDFs.\n",
        "\n",
        "LangChain's [```PDFPlumberLoader```](\n",
        "https://python.langchain.com/api_reference/community/document_loaders/langchain_community.document_loaders.pdf.PDFPlumberLoader.html) integrates with PDFPlumber to parse PDF documents into LangChain Document objects.\n",
        "\n",
        "Like PyMuPDF, the output document contains detailed metadata about the PDF and its pages, and returns one document per page."
      ]
    },
    {
      "cell_type": "code",
      "execution_count": 62,
      "id": "e97bd7f1",
      "metadata": {
        "ExecuteTime": {
          "end_time": "2025-01-02T12:38:29.054649Z",
          "start_time": "2025-01-02T12:38:27.035849Z"
        },
        "colab": {
          "base_uri": "https://localhost:8080/",
          "height": 633
        },
        "id": "e97bd7f1",
        "outputId": "b077f1d3-ba40-49ed-9d14-3bb0d75ff2b7"
      },
      "outputs": [
        {
          "output_type": "error",
          "ename": "ImportError",
          "evalue": "pdfplumber package not found, please install it with `pip install pdfplumber`",
          "traceback": [
            "\u001b[0;31m---------------------------------------------------------------------------\u001b[0m",
            "\u001b[0;31mModuleNotFoundError\u001b[0m                       Traceback (most recent call last)",
            "\u001b[0;32m/usr/local/lib/python3.11/dist-packages/langchain_community/document_loaders/pdf.py\u001b[0m in \u001b[0;36m__init__\u001b[0;34m(self, file_path, text_kwargs, dedupe, headers, extract_images)\u001b[0m\n\u001b[1;32m   1021\u001b[0m         \u001b[0;32mtry\u001b[0m\u001b[0;34m:\u001b[0m\u001b[0;34m\u001b[0m\u001b[0;34m\u001b[0m\u001b[0m\n\u001b[0;32m-> 1022\u001b[0;31m             \u001b[0;32mimport\u001b[0m \u001b[0mpdfplumber\u001b[0m  \u001b[0;31m# noqa:F401\u001b[0m\u001b[0;34m\u001b[0m\u001b[0;34m\u001b[0m\u001b[0m\n\u001b[0m\u001b[1;32m   1023\u001b[0m         \u001b[0;32mexcept\u001b[0m \u001b[0mImportError\u001b[0m\u001b[0;34m:\u001b[0m\u001b[0;34m\u001b[0m\u001b[0;34m\u001b[0m\u001b[0m\n",
            "\u001b[0;31mModuleNotFoundError\u001b[0m: No module named 'pdfplumber'",
            "\nDuring handling of the above exception, another exception occurred:\n",
            "\u001b[0;31mImportError\u001b[0m                               Traceback (most recent call last)",
            "\u001b[0;32m<ipython-input-62-5ff7dfd2ec99>\u001b[0m in \u001b[0;36m<cell line: 0>\u001b[0;34m()\u001b[0m\n\u001b[1;32m      2\u001b[0m \u001b[0;34m\u001b[0m\u001b[0m\n\u001b[1;32m      3\u001b[0m \u001b[0;31m# create a PDF document loader instance\u001b[0m\u001b[0;34m\u001b[0m\u001b[0;34m\u001b[0m\u001b[0m\n\u001b[0;32m----> 4\u001b[0;31m \u001b[0mloader\u001b[0m \u001b[0;34m=\u001b[0m \u001b[0mPDFPlumberLoader\u001b[0m\u001b[0;34m(\u001b[0m\u001b[0mFILE_PATH\u001b[0m\u001b[0;34m)\u001b[0m\u001b[0;34m\u001b[0m\u001b[0;34m\u001b[0m\u001b[0m\n\u001b[0m\u001b[1;32m      5\u001b[0m \u001b[0;34m\u001b[0m\u001b[0m\n\u001b[1;32m      6\u001b[0m \u001b[0;31m# load the document\u001b[0m\u001b[0;34m\u001b[0m\u001b[0;34m\u001b[0m\u001b[0m\n",
            "\u001b[0;32m/usr/local/lib/python3.11/dist-packages/langchain_community/document_loaders/pdf.py\u001b[0m in \u001b[0;36m__init__\u001b[0;34m(self, file_path, text_kwargs, dedupe, headers, extract_images)\u001b[0m\n\u001b[1;32m   1022\u001b[0m             \u001b[0;32mimport\u001b[0m \u001b[0mpdfplumber\u001b[0m  \u001b[0;31m# noqa:F401\u001b[0m\u001b[0;34m\u001b[0m\u001b[0;34m\u001b[0m\u001b[0m\n\u001b[1;32m   1023\u001b[0m         \u001b[0;32mexcept\u001b[0m \u001b[0mImportError\u001b[0m\u001b[0;34m:\u001b[0m\u001b[0;34m\u001b[0m\u001b[0;34m\u001b[0m\u001b[0m\n\u001b[0;32m-> 1024\u001b[0;31m             raise ImportError(\n\u001b[0m\u001b[1;32m   1025\u001b[0m                 \u001b[0;34m\"pdfplumber package not found, please install it with \"\u001b[0m\u001b[0;34m\u001b[0m\u001b[0;34m\u001b[0m\u001b[0m\n\u001b[1;32m   1026\u001b[0m                 \u001b[0;34m\"`pip install pdfplumber`\"\u001b[0m\u001b[0;34m\u001b[0m\u001b[0;34m\u001b[0m\u001b[0m\n",
            "\u001b[0;31mImportError\u001b[0m: pdfplumber package not found, please install it with `pip install pdfplumber`",
            "",
            "\u001b[0;31m---------------------------------------------------------------------------\u001b[0;32m\nNOTE: If your import is failing due to a missing package, you can\nmanually install dependencies using either !pip or !apt.\n\nTo view examples of installing some common dependencies, click the\n\"Open Examples\" button below.\n\u001b[0;31m---------------------------------------------------------------------------\u001b[0m\n"
          ],
          "errorDetails": {
            "actions": [
              {
                "action": "open_url",
                "actionText": "Open Examples",
                "url": "/notebooks/snippets/importing_libraries.ipynb"
              }
            ]
          }
        }
      ],
      "source": [
        "from langchain_community.document_loaders import PDFPlumberLoader\n",
        "\n",
        "# create a PDF document loader instance\n",
        "loader = PDFPlumberLoader(FILE_PATH)\n",
        "\n",
        "# load the document\n",
        "docs = loader.load()\n",
        "\n",
        "# access the first document data\n",
        "print(docs[10].page_content[:300])"
      ]
    },
    {
      "cell_type": "code",
      "execution_count": null,
      "id": "e250ac42",
      "metadata": {
        "ExecuteTime": {
          "end_time": "2025-01-02T12:38:29.127022Z",
          "start_time": "2025-01-02T12:38:29.077119Z"
        },
        "colab": {
          "base_uri": "https://localhost:8080/"
        },
        "id": "e250ac42",
        "outputId": "98a36632-918a-4703-ef7f-ef83b4474f92"
      },
      "outputs": [
        {
          "name": "stdout",
          "output_type": "stream",
          "text": [
            "[metadata]\n",
            "['source', 'file_path', 'page', 'total_pages', 'Author', 'CreationDate', 'Creator', 'Keywords', 'ModDate', 'PTEX.Fullbanner', 'Producer', 'Subject', 'Title', 'Trapped']\n",
            "\n",
            "[examples]\n",
            "source          : ./data/layout-parser-paper.pdf\n",
            "file_path       : ./data/layout-parser-paper.pdf\n",
            "page            : 0\n",
            "total_pages     : 16\n",
            "Author          : \n",
            "CreationDate    : D:20210622012710Z\n",
            "Creator         : LaTeX with hyperref\n",
            "Keywords        : \n",
            "ModDate         : D:20210622012710Z\n",
            "PTEX.Fullbanner : This is pdfTeX, Version 3.14159265-2.6-1.40.21 (TeX Live 2020) kpathsea version 6.3.2\n",
            "Producer        : pdfTeX-1.40.21\n",
            "Subject         : \n",
            "Title           : \n",
            "Trapped         : False\n"
          ]
        }
      ],
      "source": [
        "show_metadata(docs)"
      ]
    }
  ],
  "metadata": {
    "colab": {
      "provenance": [],
      "machine_shape": "hm",
      "include_colab_link": true
    },
    "kernelspec": {
      "display_name": "Python 3",
      "name": "python3"
    },
    "language_info": {
      "codemirror_mode": {
        "name": "ipython",
        "version": 3
      },
      "file_extension": ".py",
      "mimetype": "text/x-python",
      "name": "python",
      "nbconvert_exporter": "python",
      "pygments_lexer": "ipython3",
      "version": "3.11.8-final"
    }
  },
  "nbformat": 4,
  "nbformat_minor": 5
}